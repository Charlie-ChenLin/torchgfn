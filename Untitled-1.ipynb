{
 "cells": [
  {
   "cell_type": "code",
   "execution_count": 1,
   "metadata": {},
   "outputs": [],
   "source": [
    "%load_ext autoreload\n",
    "%autoreload 2"
   ]
  },
  {
   "cell_type": "code",
   "execution_count": 2,
   "metadata": {},
   "outputs": [],
   "source": [
    "from gfn.envs import HyperGrid\n",
    "from gfn.containers import Trajectories, States\n",
    "from gfn.samplers import UniformActionsSampler, TrajectoriesSampler"
   ]
  },
  {
   "cell_type": "code",
   "execution_count": 3,
   "metadata": {},
   "outputs": [],
   "source": [
    "env = HyperGrid(ndim=2, height=6)\n",
    "sampler = UniformActionsSampler()\n",
    "trajectories_sampler = TrajectoriesSampler(env, sampler)"
   ]
  },
  {
   "cell_type": "code",
   "execution_count": 4,
   "metadata": {},
   "outputs": [
    {
     "name": "stdout",
     "output_type": "stream",
     "text": [
      "Trajectories(n_trajectories=3, max_length=2,states=\n",
      "[0. 0.]-> [0. 1.]-> [-1. -1.]\n",
      "[0. 0.]-> [-1. -1.]\n",
      "[0. 0.]-> [-1. -1.]\n",
      ", actions=\n",
      "[[ 1  2]\n",
      " [ 2 -1]\n",
      " [ 2 -1]], when_is_done=tensor([2, 1, 1]), rewards=tensor([0.6000, 0.6000, 0.6000]))\n"
     ]
    }
   ],
   "source": [
    "trajs = trajectories_sampler.sample(n_objects=3)\n",
    "print(trajs)"
   ]
  },
  {
   "cell_type": "code",
   "execution_count": 18,
   "metadata": {},
   "outputs": [
    {
     "data": {
      "text/plain": [
       "tensor([[[ 0.,  0.],\n",
       "         [ 0.,  0.],\n",
       "         [ 0.,  0.]],\n",
       "\n",
       "        [[ 0.,  1.],\n",
       "         [-1., -1.],\n",
       "         [-1., -1.]],\n",
       "\n",
       "        [[-1., -1.],\n",
       "         [-1., -1.],\n",
       "         [-1., -1.]]])"
      ]
     },
     "execution_count": 18,
     "metadata": {},
     "output_type": "execute_result"
    }
   ],
   "source": [
    "trajs.states.states"
   ]
  },
  {
   "cell_type": "code",
   "execution_count": 24,
   "metadata": {},
   "outputs": [
    {
     "data": {
      "text/plain": [
       "tensor([[ 1,  2,  2],\n",
       "        [ 2, -1, -1]])"
      ]
     },
     "execution_count": 24,
     "metadata": {},
     "output_type": "execute_result"
    }
   ],
   "source": [
    "trajs.actions"
   ]
  },
  {
   "cell_type": "code",
   "execution_count": 27,
   "metadata": {},
   "outputs": [
    {
     "data": {
      "text/plain": [
       "tensor([[[ 0.,  1.],\n",
       "         [-1., -1.],\n",
       "         [-1., -1.]],\n",
       "\n",
       "        [[-1., -1.],\n",
       "         [-1., -1.],\n",
       "         [-1., -1.]]])"
      ]
     },
     "execution_count": 27,
     "metadata": {},
     "output_type": "execute_result"
    }
   ],
   "source": [
    "trajs.states[1: 3].states"
   ]
  },
  {
   "cell_type": "code",
   "execution_count": 28,
   "metadata": {},
   "outputs": [
    {
     "data": {
      "text/plain": [
       "tensor([[ 2, -1, -1]])"
      ]
     },
     "execution_count": 28,
     "metadata": {},
     "output_type": "execute_result"
    }
   ],
   "source": [
    "trajs.actions[1:2]"
   ]
  },
  {
   "cell_type": "code",
   "execution_count": 90,
   "metadata": {},
   "outputs": [],
   "source": [
    "partial_trajs = Trajectories(env, is_complete=False)"
   ]
  },
  {
   "cell_type": "code",
   "execution_count": 91,
   "metadata": {},
   "outputs": [
    {
     "name": "stdout",
     "output_type": "stream",
     "text": [
      "0 1\n",
      "tensor([[1, 2, 2]])\n",
      "Trajectories(n_trajectories=3, states=\n",
      "[0. 0.]-> [0. 1.]\n",
      "[0. 0.]-> [-1. -1.]\n",
      "[0. 0.]-> [-1. -1.]\n",
      ")\n",
      "0 2\n",
      "tensor([[ 1,  2,  2],\n",
      "        [ 2, -1, -1]])\n",
      "Trajectories(n_trajectories=3, states=\n",
      "[0. 0.]-> [0. 1.]-> [-1. -1.]\n",
      "[0. 0.]-> [-1. -1.]\n",
      "[0. 0.]-> [-1. -1.]\n",
      ")\n",
      "1 2\n",
      "tensor([[2]])\n",
      "Trajectories(n_trajectories=1, states=\n",
      "[0. 1.]-> [-1. -1.]\n",
      ")\n"
     ]
    }
   ],
   "source": [
    "for i in range(trajs.max_length):\n",
    "    for j in range(i + 1, trajs.max_length + 1):\n",
    "        print(i, j)\n",
    "        new_states = trajs.states[i:j + 1]\n",
    "        new_states = new_states[:, ~torch.all(new_states.states[0] == env.s_f, 1).numpy()]\n",
    "        new_actions = trajs.actions[i: j]\n",
    "        new_actions = new_actions[:, ~torch.all(new_actions == -1, 0)]\n",
    "        print(new_actions)\n",
    "        new_states.extend_with_sf(trajs.max_length)\n",
    "        new_partial_trajs = Trajectories(env, is_complete=False, states=new_states, actions=new_actions)\n",
    "        print(new_partial_trajs)\n",
    "        partial_trajs.extend(new_partial_trajs)"
   ]
  },
  {
   "cell_type": "code",
   "execution_count": 92,
   "metadata": {},
   "outputs": [
    {
     "data": {
      "text/plain": [
       "Trajectories(n_trajectories=7, states=\n",
       "[0. 0.]-> [0. 1.]-> [-1. -1.]\n",
       "[0. 0.]-> [-1. -1.]\n",
       "[0. 0.]-> [-1. -1.]\n",
       "[0. 0.]-> [0. 1.]-> [-1. -1.]\n",
       "[0. 0.]-> [-1. -1.]\n",
       "[0. 0.]-> [-1. -1.]\n",
       "[0. 1.]-> [-1. -1.]\n",
       ")"
      ]
     },
     "execution_count": 92,
     "metadata": {},
     "output_type": "execute_result"
    }
   ],
   "source": [
    "partial_trajs"
   ]
  },
  {
   "cell_type": "code",
   "execution_count": 95,
   "metadata": {},
   "outputs": [
    {
     "data": {
      "text/plain": [
       "Trajectories(n_trajectories=1, states=\n",
       "[0. 1.]-> [-1. -1.]\n",
       ")"
      ]
     },
     "execution_count": 95,
     "metadata": {},
     "output_type": "execute_result"
    }
   ],
   "source": [
    "new_partial_trajs"
   ]
  },
  {
   "cell_type": "code",
   "execution_count": 57,
   "metadata": {},
   "outputs": [
    {
     "data": {
      "text/plain": [
       "tensor([[ 0.,  1.],\n",
       "        [-1., -1.],\n",
       "        [-1., -1.]])"
      ]
     },
     "execution_count": 57,
     "metadata": {},
     "output_type": "execute_result"
    }
   ],
   "source": [
    "new_states.states[0]"
   ]
  },
  {
   "cell_type": "code",
   "execution_count": 79,
   "metadata": {},
   "outputs": [
    {
     "data": {
      "text/plain": [
       "tensor([[[-1., -1.],\n",
       "         [ 1.,  1.],\n",
       "         [ 2.,  0.]],\n",
       "\n",
       "        [[-1., -1.],\n",
       "         [ 2.,  1.],\n",
       "         [ 2.,  1.]],\n",
       "\n",
       "        [[-1., -1.],\n",
       "         [-1., -1.],\n",
       "         [-1., -1.]],\n",
       "\n",
       "        [[-1., -1.],\n",
       "         [-1., -1.],\n",
       "         [-1., -1.]],\n",
       "\n",
       "        [[-1., -1.],\n",
       "         [-1., -1.],\n",
       "         [-1., -1.]],\n",
       "\n",
       "        [[-1., -1.],\n",
       "         [-1., -1.],\n",
       "         [-1., -1.]],\n",
       "\n",
       "        [[-1., -1.],\n",
       "         [-1., -1.],\n",
       "         [-1., -1.]]])"
      ]
     },
     "execution_count": 79,
     "metadata": {},
     "output_type": "execute_result"
    }
   ],
   "source": [
    "x.states"
   ]
  },
  {
   "cell_type": "code",
   "execution_count": 67,
   "metadata": {},
   "outputs": [
    {
     "data": {
      "text/plain": [
       "HyperGridStates object of batch shape (5, 2)\n",
       "        and state shape (2,)"
      ]
     },
     "execution_count": 67,
     "metadata": {},
     "output_type": "execute_result"
    }
   ],
   "source": [
    "trajs[:2].states"
   ]
  },
  {
   "cell_type": "code",
   "execution_count": 72,
   "metadata": {},
   "outputs": [
    {
     "data": {
      "text/plain": [
       "tensor(1.)"
      ]
     },
     "execution_count": 72,
     "metadata": {},
     "output_type": "execute_result"
    }
   ],
   "source": [
    "partial_trajs.states.forward_masks.float().mean()"
   ]
  },
  {
   "cell_type": "code",
   "execution_count": null,
   "metadata": {},
   "outputs": [],
   "source": []
  }
 ],
 "metadata": {
  "kernelspec": {
   "display_name": "Python 3.10.0 ('gfn')",
   "language": "python",
   "name": "python3"
  },
  "language_info": {
   "codemirror_mode": {
    "name": "ipython",
    "version": 3
   },
   "file_extension": ".py",
   "mimetype": "text/x-python",
   "name": "python",
   "nbconvert_exporter": "python",
   "pygments_lexer": "ipython3",
   "version": "3.10.0"
  },
  "orig_nbformat": 4,
  "vscode": {
   "interpreter": {
    "hash": "434788b4d2947960d750fc4efc31c36e5cad0a4a7497510026bff955188002ed"
   }
  }
 },
 "nbformat": 4,
 "nbformat_minor": 2
}
