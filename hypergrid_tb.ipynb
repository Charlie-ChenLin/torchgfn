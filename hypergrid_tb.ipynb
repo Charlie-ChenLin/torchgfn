{
 "cells": [
  {
   "cell_type": "code",
   "execution_count": 1,
   "metadata": {},
   "outputs": [],
   "source": [
    "%load_ext autoreload\n",
    "%autoreload 2"
   ]
  },
  {
   "cell_type": "code",
   "execution_count": 4,
   "metadata": {},
   "outputs": [],
   "source": [
    "import numpy as np\n",
    "import torch\n",
    "from torch.nn import MSELoss\n",
    "from torch.distributions import Categorical\n",
    "import tqdm\n",
    "\n",
    "\n",
    "from gflownet_playground.gfn_models import PF, UniformPB\n",
    "from gflownet_playground.envs.hypergrid.hypergrid_env import HyperGrid\n",
    "from gflownet_playground.replay_buffer import ReplayBuffer\n",
    "\n",
    "import matplotlib.pyplot as plt\n",
    "\n",
    "from gflownet_playground.envs.hypergrid.utils import KHotPreprocessor, OneHotPreprocessor, get_states_indices\n",
    "from gflownet_playground.losses import trajectory_balance_loss, online_TB_loss\n",
    "\n",
    "from gflownet_playground.utils import sample_trajectories\n"
   ]
  },
  {
   "cell_type": "code",
   "execution_count": 5,
   "metadata": {},
   "outputs": [
    {
     "name": "stdout",
     "output_type": "stream",
     "text": [
      "cpu\n"
     ]
    }
   ],
   "source": [
    "device = torch.device(\"cuda\" if torch.cuda.is_available() else \"cpu\")\n",
    "print(device)"
   ]
  },
  {
   "cell_type": "code",
   "execution_count": 6,
   "metadata": {},
   "outputs": [],
   "source": [
    "ndim = 2\n",
    "H = 64\n",
    "\n",
    "env = HyperGrid(ndim=ndim, H=H, R0=0.1)\n"
   ]
  },
  {
   "cell_type": "code",
   "execution_count": 7,
   "metadata": {},
   "outputs": [
    {
     "data": {
      "image/png": "[encoded data removed]",
      "text/plain": [
       "<Figure size 432x288 with 2 Axes>"
      ]
     },
     "metadata": {
      "needs_background": "light"
     },
     "output_type": "display_data"
    }
   ],
   "source": [
    "all_rewards = env.reward(env.grid)\n",
    "true_Z = all_rewards.sum().item()\n",
    "if ndim == 2:\n",
    "    plt.imshow(all_rewards)\n",
    "    plt.title('True Z: {}'.format(true_Z))\n",
    "    plt.colorbar()\n",
    "    plt.show()"
   ]
  },
  {
   "cell_type": "code",
   "execution_count": 8,
   "metadata": {},
   "outputs": [
    {
     "name": "stdout",
     "output_type": "stream",
     "text": [
      "True distribution: tensor([0.0005, 0.0005, 0.0005,  ..., 0.0005, 0.0005, 0.0005])\n"
     ]
    }
   ],
   "source": [
    "true_dist = all_rewards.flatten() / all_rewards.sum()\n",
    "print('True distribution: {}'.format(true_dist))"
   ]
  },
  {
   "cell_type": "code",
   "execution_count": 31,
   "metadata": {},
   "outputs": [],
   "source": [
    "# GLOBAL PARAMS\n",
    "USE_BUFFER = True\n",
    "USE_TRUE_Z = False\n",
    "\n",
    "LR = 1e-3\n",
    "LR_Z = 0.1"
   ]
  },
  {
   "cell_type": "code",
   "execution_count": 32,
   "metadata": {},
   "outputs": [],
   "source": [
    "preprocessor = KHotPreprocessor(ndim=ndim, H=H)\n",
    "pf = PF(input_dim=preprocessor.output_dim,\n",
    "        n_actions=ndim + 1, h=256, preprocessor=preprocessor).to(device)\n",
    "pb = UniformPB(n_actions=ndim +1)\n",
    "\n",
    "optimizer = torch.optim.Adam([{'params': pf.parameters(), 'lr': LR}])\n",
    "temperature = 1.\n",
    "\n",
    "if USE_BUFFER:\n",
    "        capacity = 20000\n",
    "        max_length = 100\n",
    "        buffer = ReplayBuffer(capacity=capacity, max_length=max_length, state_dim=ndim)\n",
    "\n",
    "if USE_TRUE_Z:\n",
    "        logZ = torch.log(torch.tensor(true_Z)).to(device)\n",
    "else:\n",
    "        logZ = torch.zeros((1, )).to(device)\n",
    "        logZ.requires_grad_(True)\n",
    "        optimizer.add_param_group({'params': [logZ], 'lr': LR_Z})\n",
    "\n"
   ]
  },
  {
   "cell_type": "code",
   "execution_count": 33,
   "metadata": {},
   "outputs": [],
   "source": [
    "batch_size = 128\n",
    "n_iters = 5000\n",
    "start_states = torch.zeros((batch_size, ndim))\n",
    "loss_fn = MSELoss()\n",
    "losses_TB = []\n",
    "\n",
    "all_terminating_states_visited = []\n",
    "unique_seen_reward_sum = 0\n",
    "terminal_states_counter = torch.zeros_like(true_dist)\n",
    "\n"
   ]
  },
  {
   "cell_type": "code",
   "execution_count": 35,
   "metadata": {},
   "outputs": [
    {
     "name": "stdout",
     "output_type": "stream",
     "text": [
      "True Z: 1209.60\n"
     ]
    },
    {
     "name": "stderr",
     "output_type": "stream",
     "text": [
      "Z: 1234.91, seen rewards sum: 976.30, current_batch_loss: 0.06, n_traj: 80598, L1 error so far: 0.000182:   0%|          | 3/5000 [00:01<47:19,  1.76it/s]\n"
     ]
    },
    {
     "ename": "KeyboardInterrupt",
     "evalue": "",
     "output_type": "error",
     "traceback": [
      "\u001b[0;31m---------------------------------------------------------------------------\u001b[0m",
      "\u001b[0;31mKeyboardInterrupt\u001b[0m                         Traceback (most recent call last)",
      "\u001b[1;32m/Volumes/GoogleDrive/My Drive/workspace/tabular-gflownet/hypergrid_tb.ipynb Cell 10'\u001b[0m in \u001b[0;36m<cell line: 3>\u001b[0;34m()\u001b[0m\n\u001b[1;32m      <a href='vscode-notebook-cell:/Volumes/GoogleDrive/My%20Drive/workspace/tabular-gflownet/hypergrid_tb.ipynb#ch0000024?line=3'>4</a>\u001b[0m start_states \u001b[39m=\u001b[39m torch\u001b[39m.\u001b[39mzeros((batch_size, ndim))\n\u001b[1;32m      <a href='vscode-notebook-cell:/Volumes/GoogleDrive/My%20Drive/workspace/tabular-gflownet/hypergrid_tb.ipynb#ch0000024?line=5'>6</a>\u001b[0m \u001b[39mif\u001b[39;00m USE_BUFFER:\n\u001b[0;32m----> <a href='vscode-notebook-cell:/Volumes/GoogleDrive/My%20Drive/workspace/tabular-gflownet/hypergrid_tb.ipynb#ch0000024?line=6'>7</a>\u001b[0m     rollouts \u001b[39m=\u001b[39m sample_trajectories(env, pf, start_states, max_length\u001b[39m=\u001b[39;49mmax_length, temperature\u001b[39m=\u001b[39;49mtemperature)\n\u001b[1;32m      <a href='vscode-notebook-cell:/Volumes/GoogleDrive/My%20Drive/workspace/tabular-gflownet/hypergrid_tb.ipynb#ch0000024?line=7'>8</a>\u001b[0m     trajs, states, actionss, dones, rewards \u001b[39m=\u001b[39m rollouts\n\u001b[1;32m      <a href='vscode-notebook-cell:/Volumes/GoogleDrive/My%20Drive/workspace/tabular-gflownet/hypergrid_tb.ipynb#ch0000024?line=8'>9</a>\u001b[0m     buffer\u001b[39m.\u001b[39madd(trajs, actionss, rewards, dones)\n",
      "File \u001b[0;32m/Volumes/GoogleDrive/My Drive/workspace/tabular-gflownet/gflownet_playground/utils.py:51\u001b[0m, in \u001b[0;36msample_trajectories\u001b[0;34m(env, pf, start_states, max_length, temperature)\u001b[0m\n\u001b[1;32m     <a href='file:///Volumes/GoogleDrive/My%20Drive/workspace/tabular-gflownet/gflownet_playground/utils.py?line=48'>49</a>\u001b[0m old_dones \u001b[39m=\u001b[39m deepcopy(dones)\n\u001b[1;32m     <a href='file:///Volumes/GoogleDrive/My%20Drive/workspace/tabular-gflownet/gflownet_playground/utils.py?line=49'>50</a>\u001b[0m masks \u001b[39m=\u001b[39m env\u001b[39m.\u001b[39mmask_maker(states[\u001b[39m~\u001b[39mdones])\n\u001b[0;32m---> <a href='file:///Volumes/GoogleDrive/My%20Drive/workspace/tabular-gflownet/gflownet_playground/utils.py?line=50'>51</a>\u001b[0m logits \u001b[39m=\u001b[39m pf(states[\u001b[39m~\u001b[39;49mdones], masks)\n\u001b[1;32m     <a href='file:///Volumes/GoogleDrive/My%20Drive/workspace/tabular-gflownet/gflownet_playground/utils.py?line=51'>52</a>\u001b[0m probs \u001b[39m=\u001b[39m torch\u001b[39m.\u001b[39msoftmax(logits \u001b[39m/\u001b[39m temperature, \u001b[39m1\u001b[39m)\n\u001b[1;32m     <a href='file:///Volumes/GoogleDrive/My%20Drive/workspace/tabular-gflownet/gflownet_playground/utils.py?line=52'>53</a>\u001b[0m dist \u001b[39m=\u001b[39m Categorical(probs)\n",
      "File \u001b[0;32m~/miniconda3/envs/gfn/lib/python3.9/site-packages/torch/nn/modules/module.py:1110\u001b[0m, in \u001b[0;36mModule._call_impl\u001b[0;34m(self, *input, **kwargs)\u001b[0m\n\u001b[1;32m   <a href='file:///Users/salem/miniconda3/envs/gfn/lib/python3.9/site-packages/torch/nn/modules/module.py?line=1105'>1106</a>\u001b[0m \u001b[39m# If we don't have any hooks, we want to skip the rest of the logic in\u001b[39;00m\n\u001b[1;32m   <a href='file:///Users/salem/miniconda3/envs/gfn/lib/python3.9/site-packages/torch/nn/modules/module.py?line=1106'>1107</a>\u001b[0m \u001b[39m# this function, and just call forward.\u001b[39;00m\n\u001b[1;32m   <a href='file:///Users/salem/miniconda3/envs/gfn/lib/python3.9/site-packages/torch/nn/modules/module.py?line=1107'>1108</a>\u001b[0m \u001b[39mif\u001b[39;00m \u001b[39mnot\u001b[39;00m (\u001b[39mself\u001b[39m\u001b[39m.\u001b[39m_backward_hooks \u001b[39mor\u001b[39;00m \u001b[39mself\u001b[39m\u001b[39m.\u001b[39m_forward_hooks \u001b[39mor\u001b[39;00m \u001b[39mself\u001b[39m\u001b[39m.\u001b[39m_forward_pre_hooks \u001b[39mor\u001b[39;00m _global_backward_hooks\n\u001b[1;32m   <a href='file:///Users/salem/miniconda3/envs/gfn/lib/python3.9/site-packages/torch/nn/modules/module.py?line=1108'>1109</a>\u001b[0m         \u001b[39mor\u001b[39;00m _global_forward_hooks \u001b[39mor\u001b[39;00m _global_forward_pre_hooks):\n\u001b[0;32m-> <a href='file:///Users/salem/miniconda3/envs/gfn/lib/python3.9/site-packages/torch/nn/modules/module.py?line=1109'>1110</a>\u001b[0m     \u001b[39mreturn\u001b[39;00m forward_call(\u001b[39m*\u001b[39;49m\u001b[39minput\u001b[39;49m, \u001b[39m*\u001b[39;49m\u001b[39m*\u001b[39;49mkwargs)\n\u001b[1;32m   <a href='file:///Users/salem/miniconda3/envs/gfn/lib/python3.9/site-packages/torch/nn/modules/module.py?line=1110'>1111</a>\u001b[0m \u001b[39m# Do not call functions when jit is used\u001b[39;00m\n\u001b[1;32m   <a href='file:///Users/salem/miniconda3/envs/gfn/lib/python3.9/site-packages/torch/nn/modules/module.py?line=1111'>1112</a>\u001b[0m full_backward_hooks, non_full_backward_hooks \u001b[39m=\u001b[39m [], []\n",
      "File \u001b[0;32m/Volumes/GoogleDrive/My Drive/workspace/tabular-gflownet/gflownet_playground/gfn_models.py:36\u001b[0m, in \u001b[0;36mPF.forward\u001b[0;34m(self, states, masks)\u001b[0m\n\u001b[1;32m     <a href='file:///Volumes/GoogleDrive/My%20Drive/workspace/tabular-gflownet/gflownet_playground/gfn_models.py?line=33'>34</a>\u001b[0m \u001b[39massert\u001b[39;00m states\u001b[39m.\u001b[39mndim \u001b[39m==\u001b[39m \u001b[39m2\u001b[39m            \n\u001b[1;32m     <a href='file:///Volumes/GoogleDrive/My%20Drive/workspace/tabular-gflownet/gflownet_playground/gfn_models.py?line=34'>35</a>\u001b[0m preprocessed_states \u001b[39m=\u001b[39m \u001b[39mself\u001b[39m\u001b[39m.\u001b[39mpreprocessor\u001b[39m.\u001b[39mpreprocess(states)\n\u001b[0;32m---> <a href='file:///Volumes/GoogleDrive/My%20Drive/workspace/tabular-gflownet/gflownet_playground/gfn_models.py?line=35'>36</a>\u001b[0m logits \u001b[39m=\u001b[39m \u001b[39mself\u001b[39;49m\u001b[39m.\u001b[39;49mlogit_maker(preprocessed_states)\n\u001b[1;32m     <a href='file:///Volumes/GoogleDrive/My%20Drive/workspace/tabular-gflownet/gflownet_playground/gfn_models.py?line=36'>37</a>\u001b[0m \u001b[39mif\u001b[39;00m masks \u001b[39mis\u001b[39;00m \u001b[39mnot\u001b[39;00m \u001b[39mNone\u001b[39;00m:\n\u001b[1;32m     <a href='file:///Volumes/GoogleDrive/My%20Drive/workspace/tabular-gflownet/gflownet_playground/gfn_models.py?line=37'>38</a>\u001b[0m     logits[masks] \u001b[39m=\u001b[39m \u001b[39m-\u001b[39m \u001b[39mfloat\u001b[39m(\u001b[39m'\u001b[39m\u001b[39minf\u001b[39m\u001b[39m'\u001b[39m)\n",
      "File \u001b[0;32m~/miniconda3/envs/gfn/lib/python3.9/site-packages/torch/nn/modules/module.py:1110\u001b[0m, in \u001b[0;36mModule._call_impl\u001b[0;34m(self, *input, **kwargs)\u001b[0m\n\u001b[1;32m   <a href='file:///Users/salem/miniconda3/envs/gfn/lib/python3.9/site-packages/torch/nn/modules/module.py?line=1105'>1106</a>\u001b[0m \u001b[39m# If we don't have any hooks, we want to skip the rest of the logic in\u001b[39;00m\n\u001b[1;32m   <a href='file:///Users/salem/miniconda3/envs/gfn/lib/python3.9/site-packages/torch/nn/modules/module.py?line=1106'>1107</a>\u001b[0m \u001b[39m# this function, and just call forward.\u001b[39;00m\n\u001b[1;32m   <a href='file:///Users/salem/miniconda3/envs/gfn/lib/python3.9/site-packages/torch/nn/modules/module.py?line=1107'>1108</a>\u001b[0m \u001b[39mif\u001b[39;00m \u001b[39mnot\u001b[39;00m (\u001b[39mself\u001b[39m\u001b[39m.\u001b[39m_backward_hooks \u001b[39mor\u001b[39;00m \u001b[39mself\u001b[39m\u001b[39m.\u001b[39m_forward_hooks \u001b[39mor\u001b[39;00m \u001b[39mself\u001b[39m\u001b[39m.\u001b[39m_forward_pre_hooks \u001b[39mor\u001b[39;00m _global_backward_hooks\n\u001b[1;32m   <a href='file:///Users/salem/miniconda3/envs/gfn/lib/python3.9/site-packages/torch/nn/modules/module.py?line=1108'>1109</a>\u001b[0m         \u001b[39mor\u001b[39;00m _global_forward_hooks \u001b[39mor\u001b[39;00m _global_forward_pre_hooks):\n\u001b[0;32m-> <a href='file:///Users/salem/miniconda3/envs/gfn/lib/python3.9/site-packages/torch/nn/modules/module.py?line=1109'>1110</a>\u001b[0m     \u001b[39mreturn\u001b[39;00m forward_call(\u001b[39m*\u001b[39;49m\u001b[39minput\u001b[39;49m, \u001b[39m*\u001b[39;49m\u001b[39m*\u001b[39;49mkwargs)\n\u001b[1;32m   <a href='file:///Users/salem/miniconda3/envs/gfn/lib/python3.9/site-packages/torch/nn/modules/module.py?line=1110'>1111</a>\u001b[0m \u001b[39m# Do not call functions when jit is used\u001b[39;00m\n\u001b[1;32m   <a href='file:///Users/salem/miniconda3/envs/gfn/lib/python3.9/site-packages/torch/nn/modules/module.py?line=1111'>1112</a>\u001b[0m full_backward_hooks, non_full_backward_hooks \u001b[39m=\u001b[39m [], []\n",
      "File \u001b[0;32m~/miniconda3/envs/gfn/lib/python3.9/site-packages/torch/nn/modules/container.py:141\u001b[0m, in \u001b[0;36mSequential.forward\u001b[0;34m(self, input)\u001b[0m\n\u001b[1;32m    <a href='file:///Users/salem/miniconda3/envs/gfn/lib/python3.9/site-packages/torch/nn/modules/container.py?line=138'>139</a>\u001b[0m \u001b[39mdef\u001b[39;00m \u001b[39mforward\u001b[39m(\u001b[39mself\u001b[39m, \u001b[39minput\u001b[39m):\n\u001b[1;32m    <a href='file:///Users/salem/miniconda3/envs/gfn/lib/python3.9/site-packages/torch/nn/modules/container.py?line=139'>140</a>\u001b[0m     \u001b[39mfor\u001b[39;00m module \u001b[39min\u001b[39;00m \u001b[39mself\u001b[39m:\n\u001b[0;32m--> <a href='file:///Users/salem/miniconda3/envs/gfn/lib/python3.9/site-packages/torch/nn/modules/container.py?line=140'>141</a>\u001b[0m         \u001b[39minput\u001b[39m \u001b[39m=\u001b[39m module(\u001b[39minput\u001b[39;49m)\n\u001b[1;32m    <a href='file:///Users/salem/miniconda3/envs/gfn/lib/python3.9/site-packages/torch/nn/modules/container.py?line=141'>142</a>\u001b[0m     \u001b[39mreturn\u001b[39;00m \u001b[39minput\u001b[39m\n",
      "File \u001b[0;32m~/miniconda3/envs/gfn/lib/python3.9/site-packages/torch/nn/modules/module.py:1110\u001b[0m, in \u001b[0;36mModule._call_impl\u001b[0;34m(self, *input, **kwargs)\u001b[0m\n\u001b[1;32m   <a href='file:///Users/salem/miniconda3/envs/gfn/lib/python3.9/site-packages/torch/nn/modules/module.py?line=1105'>1106</a>\u001b[0m \u001b[39m# If we don't have any hooks, we want to skip the rest of the logic in\u001b[39;00m\n\u001b[1;32m   <a href='file:///Users/salem/miniconda3/envs/gfn/lib/python3.9/site-packages/torch/nn/modules/module.py?line=1106'>1107</a>\u001b[0m \u001b[39m# this function, and just call forward.\u001b[39;00m\n\u001b[1;32m   <a href='file:///Users/salem/miniconda3/envs/gfn/lib/python3.9/site-packages/torch/nn/modules/module.py?line=1107'>1108</a>\u001b[0m \u001b[39mif\u001b[39;00m \u001b[39mnot\u001b[39;00m (\u001b[39mself\u001b[39m\u001b[39m.\u001b[39m_backward_hooks \u001b[39mor\u001b[39;00m \u001b[39mself\u001b[39m\u001b[39m.\u001b[39m_forward_hooks \u001b[39mor\u001b[39;00m \u001b[39mself\u001b[39m\u001b[39m.\u001b[39m_forward_pre_hooks \u001b[39mor\u001b[39;00m _global_backward_hooks\n\u001b[1;32m   <a href='file:///Users/salem/miniconda3/envs/gfn/lib/python3.9/site-packages/torch/nn/modules/module.py?line=1108'>1109</a>\u001b[0m         \u001b[39mor\u001b[39;00m _global_forward_hooks \u001b[39mor\u001b[39;00m _global_forward_pre_hooks):\n\u001b[0;32m-> <a href='file:///Users/salem/miniconda3/envs/gfn/lib/python3.9/site-packages/torch/nn/modules/module.py?line=1109'>1110</a>\u001b[0m     \u001b[39mreturn\u001b[39;00m forward_call(\u001b[39m*\u001b[39;49m\u001b[39minput\u001b[39;49m, \u001b[39m*\u001b[39;49m\u001b[39m*\u001b[39;49mkwargs)\n\u001b[1;32m   <a href='file:///Users/salem/miniconda3/envs/gfn/lib/python3.9/site-packages/torch/nn/modules/module.py?line=1110'>1111</a>\u001b[0m \u001b[39m# Do not call functions when jit is used\u001b[39;00m\n\u001b[1;32m   <a href='file:///Users/salem/miniconda3/envs/gfn/lib/python3.9/site-packages/torch/nn/modules/module.py?line=1111'>1112</a>\u001b[0m full_backward_hooks, non_full_backward_hooks \u001b[39m=\u001b[39m [], []\n",
      "File \u001b[0;32m~/miniconda3/envs/gfn/lib/python3.9/site-packages/torch/nn/modules/linear.py:103\u001b[0m, in \u001b[0;36mLinear.forward\u001b[0;34m(self, input)\u001b[0m\n\u001b[1;32m    <a href='file:///Users/salem/miniconda3/envs/gfn/lib/python3.9/site-packages/torch/nn/modules/linear.py?line=101'>102</a>\u001b[0m \u001b[39mdef\u001b[39;00m \u001b[39mforward\u001b[39m(\u001b[39mself\u001b[39m, \u001b[39minput\u001b[39m: Tensor) \u001b[39m-\u001b[39m\u001b[39m>\u001b[39m Tensor:\n\u001b[0;32m--> <a href='file:///Users/salem/miniconda3/envs/gfn/lib/python3.9/site-packages/torch/nn/modules/linear.py?line=102'>103</a>\u001b[0m     \u001b[39mreturn\u001b[39;00m F\u001b[39m.\u001b[39;49mlinear(\u001b[39minput\u001b[39;49m, \u001b[39mself\u001b[39;49m\u001b[39m.\u001b[39;49mweight, \u001b[39mself\u001b[39;49m\u001b[39m.\u001b[39;49mbias)\n",
      "\u001b[0;31mKeyboardInterrupt\u001b[0m: "
     ]
    }
   ],
   "source": [
    "# online Trajecory Balance\n",
    "print('True Z: {:.2f}'.format(true_Z))\n",
    "for i in (pbar := tqdm.trange(n_iters)):\n",
    "    start_states = torch.zeros((batch_size, ndim))\n",
    "\n",
    "    if USE_BUFFER:\n",
    "        rollouts = sample_trajectories(env, pf, start_states, max_length=max_length, temperature=temperature)\n",
    "        trajs, states, actionss, dones, rewards = rollouts\n",
    "        buffer.add(trajs, actionss, rewards, dones)\n",
    "        rewards = rewards[dones]\n",
    "        trajs, actionss, rewardss = buffer.sample(batch_size)\n",
    "        loss = torch.zeros(torch.Size([]))\n",
    "        for traj, actions, reward in zip(trajs, actionss, rewardss):\n",
    "            traj = traj[:-1][actions != -1]\n",
    "            actions = actions[actions != -1]\n",
    "            loss_traj, trajectory_logprob = trajectory_balance_loss(env, pf, pb, logZ, traj, actions,\n",
    "                                                                    reward)\n",
    "            loss += loss_traj\n",
    "        loss /= len(trajs)\n",
    "\n",
    "    else:\n",
    "        states, loss, rewards = online_TB_loss(env, pf, pb, logZ, start_states, device=device)\n",
    "\n",
    "    states_indices = get_states_indices(states, H)\n",
    "    all_terminating_states_visited.extend(list(states_indices.numpy()))\n",
    "    unique_states, unique_states_indices = np.unique(\n",
    "        states_indices, return_index=True)\n",
    "    unique_seen_reward_sum += rewards[unique_states_indices][\n",
    "        terminal_states_counter[unique_states] == 0].sum().item()\n",
    "    terminal_states_counter[states_indices] += 1\n",
    "\n",
    "\n",
    "    optimizer.zero_grad()\n",
    "    loss.backward()\n",
    "    optimizer.step()\n",
    "\n",
    "    losses_TB.append(loss.item())\n",
    "\n",
    "    \n",
    "\n",
    "    if i % 100 == 0:\n",
    "        empirical_dist = terminal_states_counter / terminal_states_counter.sum()\n",
    "        l1 = np.abs(empirical_dist - true_dist).mean()\n",
    "    summary_string = 'Z: {:.2f}, seen rewards sum: {:.2f}'.format(torch.exp(logZ).item(), unique_seen_reward_sum)\n",
    "    summary_string += ', current_batch_loss: {:.2f}, '.format(loss.item())\n",
    "    summary_string += 'n_traj: {}, L1 error so far: {:.6f}'.format(len(all_terminating_states_visited), l1)\n",
    "    pbar.set_description(summary_string)\n"
   ]
  },
  {
   "cell_type": "code",
   "execution_count": 80,
   "metadata": {},
   "outputs": [],
   "source": [
    "start_states = torch.zeros((1000, ndim))\n",
    "\n",
    "trajs, last_states, actionss, dones, rewards = sample_trajectories(env, pf, start_states,\n",
    "                                            max_length=max_length, temperature=1.)\n",
    "\n",
    "empirical_dist = torch.zeros((H, ) * ndim).long()\n",
    "for state in last_states:\n",
    "    empirical_dist[tuple(state.long().numpy())] += 1\n",
    "\n",
    "empirical_dist = empirical_dist / empirical_dist.sum()\n"
   ]
  },
  {
   "cell_type": "code",
   "execution_count": 81,
   "metadata": {},
   "outputs": [
    {
     "data": {
      "image/png": "[encoded data removed]",
      "text/plain": [
       "<Figure size 432x288 with 2 Axes>"
      ]
     },
     "metadata": {
      "needs_background": "light"
     },
     "output_type": "display_data"
    },
    {
     "data": {
      "image/png": "[encoded data removed]",
      "text/plain": [
       "<Figure size 432x288 with 1 Axes>"
      ]
     },
     "metadata": {
      "needs_background": "light"
     },
     "output_type": "display_data"
    }
   ],
   "source": [
    "true_dist = all_rewards / all_rewards.sum()\n",
    "l = np.abs(true_dist - empirical_dist).mean()\n",
    "if ndim == 2:\n",
    "    plt.imshow(true_dist)\n",
    "    plt.title('True Z: {}'.format(true_Z))\n",
    "    plt.colorbar()\n",
    "    plt.show()\n",
    "\n",
    "    plt.imshow(empirical_dist)\n",
    "    plt.title('L1: {}'.format(l))"
   ]
  }
 ],
 "metadata": {
  "interpreter": {
   "hash": "e610853955a4976844028d25ae7d7015f56f6232ff1ee1652ddfbdbca4cad4c8"
  },
  "kernelspec": {
   "display_name": "Python 3.9.7 ('gfn')",
   "language": "python",
   "name": "python3"
  },
  "language_info": {
   "codemirror_mode": {
    "name": "ipython",
    "version": 3
   },
   "file_extension": ".py",
   "mimetype": "text/x-python",
   "name": "python",
   "nbconvert_exporter": "python",
   "pygments_lexer": "ipython3",
   "version": "3.9.7"
  },
  "orig_nbformat": 4
 },
 "nbformat": 4,
 "nbformat_minor": 2
}
