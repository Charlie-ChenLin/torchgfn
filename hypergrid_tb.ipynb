{
 "cells": [
  {
   "cell_type": "code",
   "execution_count": 1,
   "metadata": {},
   "outputs": [],
   "source": [
    "%load_ext autoreload\n",
    "%autoreload 2"
   ]
  },
  {
   "cell_type": "code",
   "execution_count": 21,
   "metadata": {},
   "outputs": [],
   "source": [
    "import numpy as np\n",
    "import torch\n",
    "from torch.nn import MSELoss\n",
    "from torch.distributions import Categorical\n",
    "import tqdm\n",
    "\n",
    "\n",
    "from gflownet_playground.gfn_models import PF, UniformPB\n",
    "from gflownet_playground.envs.hypergrid.hypergrid_env import HyperGrid\n",
    "from gflownet_playground.replay_buffer import ReplayBuffer\n",
    "\n",
    "import matplotlib.pyplot as plt\n",
    "\n",
    "from gflownet_playground.envs.hypergrid.utils import KHotPreprocessor, OneHotPreprocessor, get_states_indices\n",
    "from gflownet_playground.losses import trajectory_balance_loss, online_TB_loss\n",
    "\n",
    "from gflownet_playground.utils import sample_trajectories, uniform_sample_trajectories\n"
   ]
  },
  {
   "cell_type": "code",
   "execution_count": 3,
   "metadata": {},
   "outputs": [
    {
     "name": "stdout",
     "output_type": "stream",
     "text": [
      "cpu\n"
     ]
    }
   ],
   "source": [
    "device = torch.device(\"cuda\" if torch.cuda.is_available() else \"cpu\")\n",
    "print(device)"
   ]
  },
  {
   "cell_type": "code",
   "execution_count": 4,
   "metadata": {},
   "outputs": [],
   "source": [
    "ndim = 2\n",
    "H = 64\n",
    "\n",
    "env = HyperGrid(ndim=ndim, H=H, R0=0.1)\n"
   ]
  },
  {
   "cell_type": "code",
   "execution_count": 5,
   "metadata": {},
   "outputs": [
    {
     "data": {
      "image/png": "[encoded data removed]",
      "text/plain": [
       "<Figure size 432x288 with 2 Axes>"
      ]
     },
     "metadata": {
      "needs_background": "light"
     },
     "output_type": "display_data"
    }
   ],
   "source": [
    "all_rewards = env.reward(env.grid)\n",
    "true_Z = all_rewards.sum().item()\n",
    "if ndim == 2:\n",
    "    plt.imshow(all_rewards)\n",
    "    plt.title('True Z: {}'.format(true_Z))\n",
    "    plt.colorbar()\n",
    "    plt.show()"
   ]
  },
  {
   "cell_type": "code",
   "execution_count": 6,
   "metadata": {},
   "outputs": [
    {
     "name": "stdout",
     "output_type": "stream",
     "text": [
      "True distribution: tensor([0.0005, 0.0005, 0.0005,  ..., 0.0005, 0.0005, 0.0005])\n"
     ]
    }
   ],
   "source": [
    "true_dist = all_rewards.flatten() / all_rewards.sum()\n",
    "print('True distribution: {}'.format(true_dist))"
   ]
  },
  {
   "cell_type": "code",
   "execution_count": 45,
   "metadata": {},
   "outputs": [],
   "source": [
    "# Get validation trajectories\n",
    "start_states = torch.zeros((30, ndim)).float()\n",
    "val_trajectories, val_actionss, val_rewards = uniform_sample_trajectories(env, start_states)"
   ]
  },
  {
   "cell_type": "code",
   "execution_count": 46,
   "metadata": {},
   "outputs": [],
   "source": [
    "# GLOBAL PARAMS\n",
    "USE_BUFFER = False\n",
    "USE_TRUE_Z = False\n",
    "\n",
    "LR = 1e-3\n",
    "LR_Z = 0.1"
   ]
  },
  {
   "cell_type": "code",
   "execution_count": 47,
   "metadata": {},
   "outputs": [],
   "source": [
    "preprocessor = KHotPreprocessor(ndim=ndim, H=H)\n",
    "pf = PF(input_dim=preprocessor.output_dim,\n",
    "        n_actions=ndim + 1, h=256, preprocessor=preprocessor).to(device)\n",
    "pb = UniformPB(n_actions=ndim +1)\n",
    "\n",
    "optimizer = torch.optim.Adam([{'params': pf.parameters(), 'lr': LR}])\n",
    "temperature = 1.\n",
    "\n",
    "if USE_BUFFER:\n",
    "        capacity = 20000\n",
    "        max_length = 100\n",
    "        buffer = ReplayBuffer(capacity=capacity, max_length=max_length, state_dim=ndim)\n",
    "\n",
    "if USE_TRUE_Z:\n",
    "        logZ = torch.log(torch.tensor(true_Z)).to(device)\n",
    "else:\n",
    "        logZ = torch.zeros((1, )).to(device)\n",
    "        logZ.requires_grad_(True)\n",
    "        optimizer.add_param_group({'params': [logZ], 'lr': LR_Z})\n",
    "\n"
   ]
  },
  {
   "cell_type": "code",
   "execution_count": 48,
   "metadata": {},
   "outputs": [],
   "source": [
    "batch_size = 128\n",
    "n_iters = 5000\n",
    "start_states = torch.zeros((batch_size, ndim))\n",
    "loss_fn = MSELoss()\n",
    "losses_TB = []\n",
    "\n",
    "validation_losses = []\n",
    "\n",
    "all_terminating_states_visited = []\n",
    "unique_seen_reward_sum = 0\n",
    "terminal_states_counter = torch.zeros_like(true_dist)\n",
    "\n",
    "def validate(env, pf, pb, logZ, val_trajs, val_actionss, val_rewards):\n",
    "    loss = 0\n",
    "    for traj, actions, reward in zip(val_trajs, val_actionss, val_rewards):\n",
    "        loss_traj, _ = trajectory_balance_loss(env, pf, pb, logZ, traj[:-1], actions, reward)\n",
    "        loss += loss_traj.item()\n",
    "    return loss / len(val_trajs)\n",
    "\n"
   ]
  },
  {
   "cell_type": "code",
   "execution_count": 49,
   "metadata": {},
   "outputs": [
    {
     "name": "stdout",
     "output_type": "stream",
     "text": [
      "True Z: 1209.60\n"
     ]
    },
    {
     "name": "stderr",
     "output_type": "stream",
     "text": [
      "Z: 6474.50, seen rewards sum: 1209.20, current_batch_loss: 0.14, n_traj: 55296, L1 error so far: 0.000201, validation loss: 2.186432:   9%|▊         | 432/5000 [02:07<22:27,  3.39it/s]\n"
     ]
    },
    {
     "ename": "KeyboardInterrupt",
     "evalue": "",
     "output_type": "error",
     "traceback": [
      "\u001b[0;31m---------------------------------------------------------------------------\u001b[0m",
      "\u001b[0;31mKeyboardInterrupt\u001b[0m                         Traceback (most recent call last)",
      "\u001b[1;32m/Volumes/GoogleDrive/My Drive/workspace/tabular-gflownet/hypergrid_tb.ipynb Cell 11'\u001b[0m in \u001b[0;36m<cell line: 4>\u001b[0;34m()\u001b[0m\n\u001b[1;32m     <a href='vscode-notebook-cell:/Volumes/GoogleDrive/My%20Drive/workspace/tabular-gflownet/hypergrid_tb.ipynb#ch0000009?line=19'>20</a>\u001b[0m     loss \u001b[39m/\u001b[39m\u001b[39m=\u001b[39m \u001b[39mlen\u001b[39m(trajs)\n\u001b[1;32m     <a href='vscode-notebook-cell:/Volumes/GoogleDrive/My%20Drive/workspace/tabular-gflownet/hypergrid_tb.ipynb#ch0000009?line=21'>22</a>\u001b[0m \u001b[39melse\u001b[39;00m:\n\u001b[0;32m---> <a href='vscode-notebook-cell:/Volumes/GoogleDrive/My%20Drive/workspace/tabular-gflownet/hypergrid_tb.ipynb#ch0000009?line=22'>23</a>\u001b[0m     states, loss, rewards \u001b[39m=\u001b[39m online_TB_loss(env, pf, pb, logZ, start_states, device\u001b[39m=\u001b[39;49mdevice)\n\u001b[1;32m     <a href='vscode-notebook-cell:/Volumes/GoogleDrive/My%20Drive/workspace/tabular-gflownet/hypergrid_tb.ipynb#ch0000009?line=24'>25</a>\u001b[0m states_indices \u001b[39m=\u001b[39m get_states_indices(states, H)\n\u001b[1;32m     <a href='vscode-notebook-cell:/Volumes/GoogleDrive/My%20Drive/workspace/tabular-gflownet/hypergrid_tb.ipynb#ch0000009?line=25'>26</a>\u001b[0m all_terminating_states_visited\u001b[39m.\u001b[39mextend(\u001b[39mlist\u001b[39m(states_indices\u001b[39m.\u001b[39mnumpy()))\n",
      "File \u001b[0;32m/Volumes/GoogleDrive/My Drive/workspace/tabular-gflownet/gflownet_playground/losses.py:72\u001b[0m, in \u001b[0;36monline_TB_loss\u001b[0;34m(env, pf, pb, logZ, start_states, loss_fn, temperature, device)\u001b[0m\n\u001b[1;32m     69\u001b[0m     trajectories_logprobs[\u001b[39m~\u001b[39mdones] \u001b[39m-\u001b[39m\u001b[39m=\u001b[39m log_PB_actions\n\u001b[1;32m     71\u001b[0m masks \u001b[39m=\u001b[39m env\u001b[39m.\u001b[39mmask_maker(non_terminal_states)\n\u001b[0;32m---> 72\u001b[0m logits \u001b[39m=\u001b[39m pf(non_terminal_states, masks)\n\u001b[1;32m     73\u001b[0m probs \u001b[39m=\u001b[39m Categorical(logits\u001b[39m=\u001b[39mlogits \u001b[39m/\u001b[39m temperature)\n\u001b[1;32m     74\u001b[0m actions \u001b[39m=\u001b[39m probs\u001b[39m.\u001b[39msample()\n",
      "File \u001b[0;32m~/miniconda3/envs/gfn/lib/python3.9/site-packages/torch/nn/modules/module.py:1110\u001b[0m, in \u001b[0;36mModule._call_impl\u001b[0;34m(self, *input, **kwargs)\u001b[0m\n\u001b[1;32m   1106\u001b[0m \u001b[39m# If we don't have any hooks, we want to skip the rest of the logic in\u001b[39;00m\n\u001b[1;32m   1107\u001b[0m \u001b[39m# this function, and just call forward.\u001b[39;00m\n\u001b[1;32m   1108\u001b[0m \u001b[39mif\u001b[39;00m \u001b[39mnot\u001b[39;00m (\u001b[39mself\u001b[39m\u001b[39m.\u001b[39m_backward_hooks \u001b[39mor\u001b[39;00m \u001b[39mself\u001b[39m\u001b[39m.\u001b[39m_forward_hooks \u001b[39mor\u001b[39;00m \u001b[39mself\u001b[39m\u001b[39m.\u001b[39m_forward_pre_hooks \u001b[39mor\u001b[39;00m _global_backward_hooks\n\u001b[1;32m   1109\u001b[0m         \u001b[39mor\u001b[39;00m _global_forward_hooks \u001b[39mor\u001b[39;00m _global_forward_pre_hooks):\n\u001b[0;32m-> 1110\u001b[0m     \u001b[39mreturn\u001b[39;00m forward_call(\u001b[39m*\u001b[39;49m\u001b[39minput\u001b[39;49m, \u001b[39m*\u001b[39;49m\u001b[39m*\u001b[39;49mkwargs)\n\u001b[1;32m   1111\u001b[0m \u001b[39m# Do not call functions when jit is used\u001b[39;00m\n\u001b[1;32m   1112\u001b[0m full_backward_hooks, non_full_backward_hooks \u001b[39m=\u001b[39m [], []\n",
      "File \u001b[0;32m/Volumes/GoogleDrive/My Drive/workspace/tabular-gflownet/gflownet_playground/gfn_models.py:36\u001b[0m, in \u001b[0;36mPF.forward\u001b[0;34m(self, states, masks)\u001b[0m\n\u001b[1;32m     34\u001b[0m \u001b[39massert\u001b[39;00m states\u001b[39m.\u001b[39mndim \u001b[39m==\u001b[39m \u001b[39m2\u001b[39m            \n\u001b[1;32m     35\u001b[0m preprocessed_states \u001b[39m=\u001b[39m \u001b[39mself\u001b[39m\u001b[39m.\u001b[39mpreprocessor\u001b[39m.\u001b[39mpreprocess(states)\n\u001b[0;32m---> 36\u001b[0m logits \u001b[39m=\u001b[39m \u001b[39mself\u001b[39;49m\u001b[39m.\u001b[39;49mlogit_maker(preprocessed_states)\n\u001b[1;32m     37\u001b[0m \u001b[39mif\u001b[39;00m masks \u001b[39mis\u001b[39;00m \u001b[39mnot\u001b[39;00m \u001b[39mNone\u001b[39;00m:\n\u001b[1;32m     38\u001b[0m     logits[masks] \u001b[39m=\u001b[39m \u001b[39m-\u001b[39m \u001b[39mfloat\u001b[39m(\u001b[39m'\u001b[39m\u001b[39minf\u001b[39m\u001b[39m'\u001b[39m)\n",
      "File \u001b[0;32m~/miniconda3/envs/gfn/lib/python3.9/site-packages/torch/nn/modules/module.py:1110\u001b[0m, in \u001b[0;36mModule._call_impl\u001b[0;34m(self, *input, **kwargs)\u001b[0m\n\u001b[1;32m   1106\u001b[0m \u001b[39m# If we don't have any hooks, we want to skip the rest of the logic in\u001b[39;00m\n\u001b[1;32m   1107\u001b[0m \u001b[39m# this function, and just call forward.\u001b[39;00m\n\u001b[1;32m   1108\u001b[0m \u001b[39mif\u001b[39;00m \u001b[39mnot\u001b[39;00m (\u001b[39mself\u001b[39m\u001b[39m.\u001b[39m_backward_hooks \u001b[39mor\u001b[39;00m \u001b[39mself\u001b[39m\u001b[39m.\u001b[39m_forward_hooks \u001b[39mor\u001b[39;00m \u001b[39mself\u001b[39m\u001b[39m.\u001b[39m_forward_pre_hooks \u001b[39mor\u001b[39;00m _global_backward_hooks\n\u001b[1;32m   1109\u001b[0m         \u001b[39mor\u001b[39;00m _global_forward_hooks \u001b[39mor\u001b[39;00m _global_forward_pre_hooks):\n\u001b[0;32m-> 1110\u001b[0m     \u001b[39mreturn\u001b[39;00m forward_call(\u001b[39m*\u001b[39;49m\u001b[39minput\u001b[39;49m, \u001b[39m*\u001b[39;49m\u001b[39m*\u001b[39;49mkwargs)\n\u001b[1;32m   1111\u001b[0m \u001b[39m# Do not call functions when jit is used\u001b[39;00m\n\u001b[1;32m   1112\u001b[0m full_backward_hooks, non_full_backward_hooks \u001b[39m=\u001b[39m [], []\n",
      "File \u001b[0;32m~/miniconda3/envs/gfn/lib/python3.9/site-packages/torch/nn/modules/container.py:141\u001b[0m, in \u001b[0;36mSequential.forward\u001b[0;34m(self, input)\u001b[0m\n\u001b[1;32m    139\u001b[0m \u001b[39mdef\u001b[39;00m \u001b[39mforward\u001b[39m(\u001b[39mself\u001b[39m, \u001b[39minput\u001b[39m):\n\u001b[1;32m    140\u001b[0m     \u001b[39mfor\u001b[39;00m module \u001b[39min\u001b[39;00m \u001b[39mself\u001b[39m:\n\u001b[0;32m--> 141\u001b[0m         \u001b[39minput\u001b[39m \u001b[39m=\u001b[39m module(\u001b[39minput\u001b[39;49m)\n\u001b[1;32m    142\u001b[0m     \u001b[39mreturn\u001b[39;00m \u001b[39minput\u001b[39m\n",
      "File \u001b[0;32m~/miniconda3/envs/gfn/lib/python3.9/site-packages/torch/nn/modules/module.py:1110\u001b[0m, in \u001b[0;36mModule._call_impl\u001b[0;34m(self, *input, **kwargs)\u001b[0m\n\u001b[1;32m   1106\u001b[0m \u001b[39m# If we don't have any hooks, we want to skip the rest of the logic in\u001b[39;00m\n\u001b[1;32m   1107\u001b[0m \u001b[39m# this function, and just call forward.\u001b[39;00m\n\u001b[1;32m   1108\u001b[0m \u001b[39mif\u001b[39;00m \u001b[39mnot\u001b[39;00m (\u001b[39mself\u001b[39m\u001b[39m.\u001b[39m_backward_hooks \u001b[39mor\u001b[39;00m \u001b[39mself\u001b[39m\u001b[39m.\u001b[39m_forward_hooks \u001b[39mor\u001b[39;00m \u001b[39mself\u001b[39m\u001b[39m.\u001b[39m_forward_pre_hooks \u001b[39mor\u001b[39;00m _global_backward_hooks\n\u001b[1;32m   1109\u001b[0m         \u001b[39mor\u001b[39;00m _global_forward_hooks \u001b[39mor\u001b[39;00m _global_forward_pre_hooks):\n\u001b[0;32m-> 1110\u001b[0m     \u001b[39mreturn\u001b[39;00m forward_call(\u001b[39m*\u001b[39;49m\u001b[39minput\u001b[39;49m, \u001b[39m*\u001b[39;49m\u001b[39m*\u001b[39;49mkwargs)\n\u001b[1;32m   1111\u001b[0m \u001b[39m# Do not call functions when jit is used\u001b[39;00m\n\u001b[1;32m   1112\u001b[0m full_backward_hooks, non_full_backward_hooks \u001b[39m=\u001b[39m [], []\n",
      "File \u001b[0;32m~/miniconda3/envs/gfn/lib/python3.9/site-packages/torch/nn/modules/activation.py:98\u001b[0m, in \u001b[0;36mReLU.forward\u001b[0;34m(self, input)\u001b[0m\n\u001b[1;32m     97\u001b[0m \u001b[39mdef\u001b[39;00m \u001b[39mforward\u001b[39m(\u001b[39mself\u001b[39m, \u001b[39minput\u001b[39m: Tensor) \u001b[39m-\u001b[39m\u001b[39m>\u001b[39m Tensor:\n\u001b[0;32m---> 98\u001b[0m     \u001b[39mreturn\u001b[39;00m F\u001b[39m.\u001b[39;49mrelu(\u001b[39minput\u001b[39;49m, inplace\u001b[39m=\u001b[39;49m\u001b[39mself\u001b[39;49m\u001b[39m.\u001b[39;49minplace)\n",
      "File \u001b[0;32m~/miniconda3/envs/gfn/lib/python3.9/site-packages/torch/nn/functional.py:1442\u001b[0m, in \u001b[0;36mrelu\u001b[0;34m(input, inplace)\u001b[0m\n\u001b[1;32m   1440\u001b[0m     result \u001b[39m=\u001b[39m torch\u001b[39m.\u001b[39mrelu_(\u001b[39minput\u001b[39m)\n\u001b[1;32m   1441\u001b[0m \u001b[39melse\u001b[39;00m:\n\u001b[0;32m-> 1442\u001b[0m     result \u001b[39m=\u001b[39m torch\u001b[39m.\u001b[39;49mrelu(\u001b[39minput\u001b[39;49m)\n\u001b[1;32m   1443\u001b[0m \u001b[39mreturn\u001b[39;00m result\n",
      "\u001b[0;31mKeyboardInterrupt\u001b[0m: "
     ]
    }
   ],
   "source": [
    "# online Trajecory Balance\n",
    "print('True Z: {:.2f}'.format(true_Z))\n",
    "validation_losses.append(validate(env, pf, pb, logZ, val_trajectories, val_actionss, val_rewards))\n",
    "for i in (pbar := tqdm.trange(n_iters)):\n",
    "    start_states = torch.zeros((batch_size, ndim))\n",
    "\n",
    "    if USE_BUFFER:\n",
    "        rollouts = sample_trajectories(env, pf, start_states, max_length=max_length, temperature=temperature)\n",
    "        trajs, states, actionss, dones, rewards = rollouts\n",
    "        buffer.add(trajs, actionss, rewards, dones)\n",
    "        rewards = rewards[dones]\n",
    "        trajs, actionss, rewardss = buffer.sample(batch_size)\n",
    "        loss = torch.zeros(torch.Size([]))\n",
    "        for traj, actions, reward in zip(trajs, actionss, rewardss):\n",
    "            traj = traj[:-1][actions != -1]\n",
    "            actions = actions[actions != -1]\n",
    "            loss_traj, trajectory_logprob = trajectory_balance_loss(env, pf, pb, logZ, traj, actions,\n",
    "                                                                    reward)\n",
    "            loss += loss_traj\n",
    "        loss /= len(trajs)\n",
    "\n",
    "    else:\n",
    "        states, loss, rewards = online_TB_loss(env, pf, pb, logZ, start_states, device=device)\n",
    "\n",
    "    states_indices = get_states_indices(states, H)\n",
    "    all_terminating_states_visited.extend(list(states_indices.numpy()))\n",
    "    unique_states, unique_states_indices = np.unique(\n",
    "        states_indices, return_index=True)\n",
    "    unique_seen_reward_sum += rewards[unique_states_indices][\n",
    "        terminal_states_counter[unique_states] == 0].sum().item()\n",
    "    terminal_states_counter[states_indices] += 1\n",
    "\n",
    "\n",
    "    optimizer.zero_grad()\n",
    "    loss.backward()\n",
    "    optimizer.step()\n",
    "\n",
    "    losses_TB.append(loss.item())\n",
    "\n",
    "    validation_losses.append(validate(env, pf, pb, logZ, val_trajectories, val_actionss, val_rewards))\n",
    "\n",
    "    if i % 100 == 0:\n",
    "        empirical_dist = terminal_states_counter / terminal_states_counter.sum()\n",
    "        l1 = np.abs(empirical_dist - true_dist).mean()\n",
    "    summary_string = 'Z: {:.2f}, seen rewards sum: {:.2f}'.format(torch.exp(logZ).item(), unique_seen_reward_sum)\n",
    "    summary_string += ', current_batch_loss: {:.2f}, '.format(loss.item())\n",
    "    summary_string += 'n_traj: {}, L1 error so far: {:.6f}'.format(len(all_terminating_states_visited), l1)\n",
    "    summary_string += ', validation loss: {:.6f}'.format(validation_losses[-1])\n",
    "    pbar.set_description(summary_string)\n"
   ]
  },
  {
   "cell_type": "code",
   "execution_count": 51,
   "metadata": {},
   "outputs": [
    {
     "data": {
      "image/png": "[encoded data removed]",
      "text/plain": [
       "<Figure size 432x288 with 1 Axes>"
      ]
     },
     "metadata": {
      "needs_background": "light"
     },
     "output_type": "display_data"
    }
   ],
   "source": [
    "plt.plot(validation_losses, label='validation loss')\n",
    "plt.plot(losses_TB, label='training TB loss')\n",
    "plt.legend()\n",
    "plt.show()"
   ]
  },
  {
   "cell_type": "code",
   "execution_count": 80,
   "metadata": {},
   "outputs": [],
   "source": [
    "start_states = torch.zeros((1000, ndim))\n",
    "\n",
    "trajs, last_states, actionss, dones, rewards = sample_trajectories(env, pf, start_states,\n",
    "                                            max_length=max_length, temperature=1.)\n",
    "\n",
    "empirical_dist = torch.zeros((H, ) * ndim).long()\n",
    "for state in last_states:\n",
    "    empirical_dist[tuple(state.long().numpy())] += 1\n",
    "\n",
    "empirical_dist = empirical_dist / empirical_dist.sum()\n"
   ]
  },
  {
   "cell_type": "code",
   "execution_count": 81,
   "metadata": {},
   "outputs": [
    {
     "data": {
      "image/png": "[encoded data removed]",
      "text/plain": [
       "<Figure size 432x288 with 2 Axes>"
      ]
     },
     "metadata": {
      "needs_background": "light"
     },
     "output_type": "display_data"
    },
    {
     "data": {
      "image/png": "[encoded data removed]",
      "text/plain": [
       "<Figure size 432x288 with 1 Axes>"
      ]
     },
     "metadata": {
      "needs_background": "light"
     },
     "output_type": "display_data"
    }
   ],
   "source": [
    "true_dist = all_rewards / all_rewards.sum()\n",
    "l = np.abs(true_dist - empirical_dist).mean()\n",
    "if ndim == 2:\n",
    "    plt.imshow(true_dist)\n",
    "    plt.title('True Z: {}'.format(true_Z))\n",
    "    plt.colorbar()\n",
    "    plt.show()\n",
    "\n",
    "    plt.imshow(empirical_dist)\n",
    "    plt.title('L1: {}'.format(l))"
   ]
  },
  {
   "cell_type": "code",
   "execution_count": null,
   "metadata": {},
   "outputs": [],
   "source": []
  },
  {
   "cell_type": "code",
   "execution_count": 10,
   "metadata": {},
   "outputs": [
    {
     "data": {
      "text/plain": [
       "tensor([[ True, False,  True, False]])"
      ]
     },
     "execution_count": 10,
     "metadata": {},
     "output_type": "execute_result"
    }
   ],
   "source": [
    "a = torch.randint(0, 2, (1, 4)).bool()\n",
    "a"
   ]
  },
  {
   "cell_type": "code",
   "execution_count": 20,
   "metadata": {},
   "outputs": [
    {
     "data": {
      "text/plain": [
       "3"
      ]
     },
     "execution_count": 20,
     "metadata": {},
     "output_type": "execute_result"
    }
   ],
   "source": [
    "np.random.choice([i for i, j in enumerate(a[0]) if not j ])"
   ]
  },
  {
   "cell_type": "code",
   "execution_count": null,
   "metadata": {},
   "outputs": [],
   "source": []
  }
 ],
 "metadata": {
  "interpreter": {
   "hash": "e610853955a4976844028d25ae7d7015f56f6232ff1ee1652ddfbdbca4cad4c8"
  },
  "kernelspec": {
   "display_name": "Python 3.9.7 ('gfn')",
   "language": "python",
   "name": "python3"
  },
  "language_info": {
   "codemirror_mode": {
    "name": "ipython",
    "version": 3
   },
   "file_extension": ".py",
   "mimetype": "text/x-python",
   "name": "python",
   "nbconvert_exporter": "python",
   "pygments_lexer": "ipython3",
   "version": "3.9.7"
  },
  "orig_nbformat": 4
 },
 "nbformat": 4,
 "nbformat_minor": 2
}
