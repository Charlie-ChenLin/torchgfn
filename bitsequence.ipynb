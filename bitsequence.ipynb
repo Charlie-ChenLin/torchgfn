{
 "cells": [
  {
   "cell_type": "code",
   "execution_count": 1,
   "id": "b1dda56f-5cb9-4bfb-b1de-3c9db89573eb",
   "metadata": {
    "pycharm": {
     "name": "#%%\n"
    }
   },
   "outputs": [],
   "source": [
    "%load_ext autoreload\n",
    "%autoreload 2"
   ]
  },
  {
   "cell_type": "code",
   "execution_count": 2,
   "id": "6e0bb91f-3f8e-4d4c-a192-b005280ddd25",
   "metadata": {
    "pycharm": {
     "name": "#%%\n"
    }
   },
   "outputs": [],
   "source": [
    "import numpy as np\n",
    "import matplotlib.pyplot as plt\n",
    "n = 120"
   ]
  },
  {
   "cell_type": "code",
   "execution_count": 3,
   "id": "b040d7ed-1a06-4d49-9535-d5f275201841",
   "metadata": {
    "pycharm": {
     "name": "#%%\n"
    }
   },
   "outputs": [],
   "source": [
    "# Reference set of bits\n",
    "b = 8\n",
    "m = int(n / b)\n",
    "len_M = 60\n",
    "\n",
    "H = ['00000000', '11111111', '11110000', '00001111', '00111100']\n",
    "M = set()\n",
    "while len(M) < len_M:\n",
    "    x = list(np.random.choice(H, size=m, replace=True))\n",
    "    target = ''\n",
    "    for seq in x:\n",
    "        target += seq\n",
    "    M.add(target)"
   ]
  },
  {
   "cell_type": "code",
   "execution_count": 4,
   "id": "3b044ddb-1f21-437e-ad06-6fbcd0b833fc",
   "metadata": {
    "pycharm": {
     "name": "#%%\n"
    }
   },
   "outputs": [],
   "source": [
    "def edit_distance(sequence1, sequence2):\n",
    "    assert len(sequence1) == len(sequence2) == n\n",
    "    return (np.array(list(sequence1)) != np.array(list(sequence2))).sum()\n",
    "\n",
    "def reward(sequence):\n",
    "    reward = np.exp(-n)\n",
    "    for mode in M:\n",
    "        tmp = np.exp(- edit_distance(sequence, mode))\n",
    "        if tmp > reward:\n",
    "            reward = tmp\n",
    "    return reward"
   ]
  },
  {
   "cell_type": "code",
   "execution_count": 5,
   "id": "56f83950-ee5a-4bfa-a3b0-e7cf680a7812",
   "metadata": {
    "pycharm": {
     "name": "#%%\n"
    }
   },
   "outputs": [],
   "source": [
    "rewards = []\n",
    "for _ in range(10000):\n",
    "    x = list(np.random.choice(['0', '1'], size=n, replace=True))\n",
    "    target = ''\n",
    "    for seq in x:\n",
    "        target += seq\n",
    "    rewards.append(reward(target))"
   ]
  },
  {
   "cell_type": "code",
   "execution_count": 6,
   "id": "ae66ab45-d819-4793-9860-4353a24d2f45",
   "metadata": {
    "pycharm": {
     "name": "#%%\n"
    }
   },
   "outputs": [
    {
     "data": {
      "text/plain": [
       "(array([9.98e+03, 1.00e+01, 0.00e+00, 7.00e+00, 0.00e+00, 0.00e+00,\n",
       "        0.00e+00, 0.00e+00, 0.00e+00, 3.00e+00]),\n",
       " array([4.78089288e-25, 2.31952287e-17, 4.63904570e-17, 6.95856852e-17,\n",
       "        9.27809135e-17, 1.15976142e-16, 1.39171370e-16, 1.62366598e-16,\n",
       "        1.85561827e-16, 2.08757055e-16, 2.31952283e-16]),\n",
       " <BarContainer object of 10 artists>)"
      ]
     },
     "execution_count": 6,
     "metadata": {},
     "output_type": "execute_result"
    },
    {
     "data": {
      "image/png": "[encoded data removed]",
      "text/plain": [
       "<Figure size 432x288 with 1 Axes>"
      ]
     },
     "metadata": {
      "needs_background": "light"
     },
     "output_type": "display_data"
    }
   ],
   "source": [
    "plt.hist(rewards)"
   ]
  },
  {
   "cell_type": "code",
   "execution_count": 7,
   "id": "5fc4c76e-554f-4689-a423-656d53810f04",
   "metadata": {
    "pycharm": {
     "name": "#%%\n"
    }
   },
   "outputs": [
    {
     "data": {
      "text/plain": [
       "2.3195228302435696e-16"
      ]
     },
     "execution_count": 7,
     "metadata": {},
     "output_type": "execute_result"
    }
   ],
   "source": [
    "max(rewards)"
   ]
  },
  {
   "cell_type": "code",
   "execution_count": 9,
   "id": "11bcf854",
   "metadata": {},
   "outputs": [],
   "source": [
    "from models import make_mlp, Embedding, get_padding_masks, TransformerModel"
   ]
  },
  {
   "cell_type": "code",
   "execution_count": 12,
   "id": "3f87748b",
   "metadata": {},
   "outputs": [
    {
     "data": {
      "text/plain": [
       "Sequential(\n",
       "  (0): Linear(in_features=2, out_features=3, bias=True)\n",
       "  (1): LeakyReLU(negative_slope=0.01)\n",
       "  (2): Linear(in_features=3, out_features=4, bias=True)\n",
       "  (3): LeakyReLU(negative_slope=0.01)\n",
       "  (4): Linear(in_features=4, out_features=5, bias=True)\n",
       ")"
      ]
     },
     "execution_count": 12,
     "metadata": {},
     "output_type": "execute_result"
    }
   ],
   "source": [
    "make_mlp([2,3,4, 5])"
   ]
  },
  {
   "cell_type": "code",
   "execution_count": 15,
   "id": "9f7a3dd5-596b-439c-9577-4a913aada7eb",
   "metadata": {
    "pycharm": {
     "name": "#%%\n"
    }
   },
   "outputs": [],
   "source": [
    "import torch\n",
    "import torch.nn as nn\n",
    "import math\n",
    "\n",
    "\n",
    "# Taken from the PyTorch Transformer tutorial\n",
    "class PositionalEncoding(nn.Module):\n",
    "\n",
    "    def __init__(self, d_model, dropout=0.1, max_len=5000):\n",
    "        super(PositionalEncoding, self).__init__()\n",
    "        self.dropout = nn.Dropout(p=dropout)\n",
    "\n",
    "        pe = torch.zeros(max_len, d_model)\n",
    "        position = torch.arange(0, max_len, dtype=torch.float).unsqueeze(1)\n",
    "        div_term = torch.exp(torch.arange(\n",
    "            0, d_model, 2).float() * (-math.log(10000.0) / d_model))\n",
    "        pe[:, 0::2] = torch.sin(position * div_term)\n",
    "        pe[:, 1::2] = torch.cos(position * div_term)\n",
    "        pe = pe.unsqueeze(0).transpose(0, 1)\n",
    "        self.register_buffer('pe', pe)\n",
    "\n",
    "    def forward(self, x):\n",
    "        x = x + self.pe[:x.size(0), :]\n",
    "        return self.dropout(x)\n"
   ]
  },
  {
   "cell_type": "code",
   "execution_count": 16,
   "id": "e895acc8-4d12-4b99-98f0-06777b980986",
   "metadata": {
    "pycharm": {
     "name": "#%%\n"
    }
   },
   "outputs": [],
   "source": [
    "import math\n",
    "import torch\n",
    "import torch.nn as nn\n",
    "\n",
    "\n",
    "\n",
    "class GFNTransformer(nn.Module):\n",
    "    def __init__(self, num_tokens, num_outputs, num_hid,\n",
    "                 num_layers, num_head, max_len=60, dropout=0.1):\n",
    "        super().__init__()\n",
    "        self.pos = PositionalEncoding(num_hid, dropout=dropout, max_len=max_len + 1)\n",
    "        self.embedding = nn.Embedding(num_tokens, num_hid)\n",
    "        encoder_layers = nn.TransformerEncoderLayer(num_hid, num_head, num_hid, dropout=dropout)\n",
    "        self.encoder = nn.TransformerEncoder(encoder_layers, num_layers)\n",
    "        self.output = nn.Linear(num_hid, num_outputs)\n",
    "\n",
    "    def forward(self, x, mask=None):\n",
    "        u = x\n",
    "        x = self.embedding(x)\n",
    "        x = self.pos(x)\n",
    "        x = self.encoder(x, src_key_padding_mask=mask)\n",
    "        pooled_x = x[0, :] # This is weird... but this is what BERT calls pooling?\n",
    "        # indeed doing e.g. this:\n",
    "        #_mask = (1-mask.float())\n",
    "        #pooled_x = (x * _mask.T.unsqueeze(2)).sum(0) / _mask.sum(1).unsqueeze(1)\n",
    "        # seems to no be as good? (Well, the max reward is lower but loss is similar..)\n",
    "        y = self.output(pooled_x)\n",
    "        return y"
   ]
  },
  {
   "cell_type": "code",
   "execution_count": 142,
   "id": "4be39d9e-70fd-4e6e-95b6-0d0a4f415d4d",
   "metadata": {
    "pycharm": {
     "name": "#%%\n"
    }
   },
   "outputs": [],
   "source": [
    "transformer = GFNTransformer(num_tokens=2, num_outputs=1, dropout=0.,\n",
    "                             num_hid=64, num_layers=3, num_head=8)"
   ]
  },
  {
   "cell_type": "code",
   "execution_count": 145,
   "id": "225f8b0c-77b9-439b-827e-8fd9ab0049d1",
   "metadata": {
    "pycharm": {
     "name": "#%%\n"
    }
   },
   "outputs": [
    {
     "ename": "RuntimeError",
     "evalue": "The size of tensor a (120) must match the size of tensor b (61) at non-singleton dimension 0",
     "output_type": "error",
     "traceback": [
      "\u001b[0;31m---------------------------------------------------------------------------\u001b[0m",
      "\u001b[0;31mRuntimeError\u001b[0m                              Traceback (most recent call last)",
      "\u001b[1;32m/Volumes/GoogleDrive/My Drive/workspace/tabular-gflownet/bitsequence.ipynb Cell 13'\u001b[0m in \u001b[0;36m<cell line: 3>\u001b[0;34m()\u001b[0m\n\u001b[1;32m      <a href='vscode-notebook-cell:/Volumes/GoogleDrive/My%20Drive/workspace/tabular-gflownet/bitsequence.ipynb#ch0000013?line=4'>5</a>\u001b[0m length \u001b[39m=\u001b[39m n\n\u001b[1;32m      <a href='vscode-notebook-cell:/Volumes/GoogleDrive/My%20Drive/workspace/tabular-gflownet/bitsequence.ipynb#ch0000013?line=5'>6</a>\u001b[0m x \u001b[39m=\u001b[39m torch\u001b[39m.\u001b[39mrandint(\u001b[39m2\u001b[39m, (length, \u001b[39m16\u001b[39m))\u001b[39m.\u001b[39mto(torch\u001b[39m.\u001b[39mlong)\n\u001b[0;32m----> <a href='vscode-notebook-cell:/Volumes/GoogleDrive/My%20Drive/workspace/tabular-gflownet/bitsequence.ipynb#ch0000013?line=6'>7</a>\u001b[0m pred \u001b[39m=\u001b[39m transformer(x, \u001b[39mNone\u001b[39;49;00m)\u001b[39m.\u001b[39msqueeze()\n\u001b[1;32m      <a href='vscode-notebook-cell:/Volumes/GoogleDrive/My%20Drive/workspace/tabular-gflownet/bitsequence.ipynb#ch0000013?line=7'>8</a>\u001b[0m target \u001b[39m=\u001b[39m (x\u001b[39m.\u001b[39msum(\u001b[39m0\u001b[39m) \u001b[39m/\u001b[39m \u001b[39m100.\u001b[39m \u001b[39m-\u001b[39m x[\u001b[39m10\u001b[39m:x\u001b[39m.\u001b[39mshape[\u001b[39m0\u001b[39m] \u001b[39m/\u001b[39m\u001b[39m/\u001b[39m \u001b[39m2\u001b[39m:]\u001b[39m.\u001b[39msum(\u001b[39m0\u001b[39m) \u001b[39m/\u001b[39m \u001b[39m100.\u001b[39m \u001b[39m+\u001b[39m x[:\u001b[39m10\u001b[39m, :]\u001b[39m.\u001b[39mfloat()\u001b[39m.\u001b[39mmean(\u001b[39m0\u001b[39m))\n\u001b[1;32m      <a href='vscode-notebook-cell:/Volumes/GoogleDrive/My%20Drive/workspace/tabular-gflownet/bitsequence.ipynb#ch0000013?line=8'>9</a>\u001b[0m loss \u001b[39m=\u001b[39m nn\u001b[39m.\u001b[39mMSELoss()(target, pred)\n",
      "File \u001b[0;32m~/miniconda3/envs/gfn/lib/python3.9/site-packages/torch/nn/modules/module.py:1110\u001b[0m, in \u001b[0;36mModule._call_impl\u001b[0;34m(self, *input, **kwargs)\u001b[0m\n\u001b[1;32m   <a href='file:///Users/salem/miniconda3/envs/gfn/lib/python3.9/site-packages/torch/nn/modules/module.py?line=1105'>1106</a>\u001b[0m \u001b[39m# If we don't have any hooks, we want to skip the rest of the logic in\u001b[39;00m\n\u001b[1;32m   <a href='file:///Users/salem/miniconda3/envs/gfn/lib/python3.9/site-packages/torch/nn/modules/module.py?line=1106'>1107</a>\u001b[0m \u001b[39m# this function, and just call forward.\u001b[39;00m\n\u001b[1;32m   <a href='file:///Users/salem/miniconda3/envs/gfn/lib/python3.9/site-packages/torch/nn/modules/module.py?line=1107'>1108</a>\u001b[0m \u001b[39mif\u001b[39;00m \u001b[39mnot\u001b[39;00m (\u001b[39mself\u001b[39m\u001b[39m.\u001b[39m_backward_hooks \u001b[39mor\u001b[39;00m \u001b[39mself\u001b[39m\u001b[39m.\u001b[39m_forward_hooks \u001b[39mor\u001b[39;00m \u001b[39mself\u001b[39m\u001b[39m.\u001b[39m_forward_pre_hooks \u001b[39mor\u001b[39;00m _global_backward_hooks\n\u001b[1;32m   <a href='file:///Users/salem/miniconda3/envs/gfn/lib/python3.9/site-packages/torch/nn/modules/module.py?line=1108'>1109</a>\u001b[0m         \u001b[39mor\u001b[39;00m _global_forward_hooks \u001b[39mor\u001b[39;00m _global_forward_pre_hooks):\n\u001b[0;32m-> <a href='file:///Users/salem/miniconda3/envs/gfn/lib/python3.9/site-packages/torch/nn/modules/module.py?line=1109'>1110</a>\u001b[0m     \u001b[39mreturn\u001b[39;00m forward_call(\u001b[39m*\u001b[39;49m\u001b[39minput\u001b[39;49m, \u001b[39m*\u001b[39;49m\u001b[39m*\u001b[39;49mkwargs)\n\u001b[1;32m   <a href='file:///Users/salem/miniconda3/envs/gfn/lib/python3.9/site-packages/torch/nn/modules/module.py?line=1110'>1111</a>\u001b[0m \u001b[39m# Do not call functions when jit is used\u001b[39;00m\n\u001b[1;32m   <a href='file:///Users/salem/miniconda3/envs/gfn/lib/python3.9/site-packages/torch/nn/modules/module.py?line=1111'>1112</a>\u001b[0m full_backward_hooks, non_full_backward_hooks \u001b[39m=\u001b[39m [], []\n",
      "\u001b[1;32m/Volumes/GoogleDrive/My Drive/workspace/tabular-gflownet/bitsequence.ipynb Cell 11'\u001b[0m in \u001b[0;36mGFNTransformer.forward\u001b[0;34m(self, x, mask)\u001b[0m\n\u001b[1;32m     <a href='vscode-notebook-cell:/Volumes/GoogleDrive/My%20Drive/workspace/tabular-gflownet/bitsequence.ipynb#ch0000010?line=17'>18</a>\u001b[0m u \u001b[39m=\u001b[39m x\n\u001b[1;32m     <a href='vscode-notebook-cell:/Volumes/GoogleDrive/My%20Drive/workspace/tabular-gflownet/bitsequence.ipynb#ch0000010?line=18'>19</a>\u001b[0m x \u001b[39m=\u001b[39m \u001b[39mself\u001b[39m\u001b[39m.\u001b[39membedding(x)\n\u001b[0;32m---> <a href='vscode-notebook-cell:/Volumes/GoogleDrive/My%20Drive/workspace/tabular-gflownet/bitsequence.ipynb#ch0000010?line=19'>20</a>\u001b[0m x \u001b[39m=\u001b[39m \u001b[39mself\u001b[39;49m\u001b[39m.\u001b[39;49mpos(x)\n\u001b[1;32m     <a href='vscode-notebook-cell:/Volumes/GoogleDrive/My%20Drive/workspace/tabular-gflownet/bitsequence.ipynb#ch0000010?line=20'>21</a>\u001b[0m x \u001b[39m=\u001b[39m \u001b[39mself\u001b[39m\u001b[39m.\u001b[39mencoder(x, src_key_padding_mask\u001b[39m=\u001b[39mmask)\n\u001b[1;32m     <a href='vscode-notebook-cell:/Volumes/GoogleDrive/My%20Drive/workspace/tabular-gflownet/bitsequence.ipynb#ch0000010?line=21'>22</a>\u001b[0m pooled_x \u001b[39m=\u001b[39m x[\u001b[39m0\u001b[39m, :] \u001b[39m# This is weird... but this is what BERT calls pooling?\u001b[39;00m\n",
      "File \u001b[0;32m~/miniconda3/envs/gfn/lib/python3.9/site-packages/torch/nn/modules/module.py:1110\u001b[0m, in \u001b[0;36mModule._call_impl\u001b[0;34m(self, *input, **kwargs)\u001b[0m\n\u001b[1;32m   <a href='file:///Users/salem/miniconda3/envs/gfn/lib/python3.9/site-packages/torch/nn/modules/module.py?line=1105'>1106</a>\u001b[0m \u001b[39m# If we don't have any hooks, we want to skip the rest of the logic in\u001b[39;00m\n\u001b[1;32m   <a href='file:///Users/salem/miniconda3/envs/gfn/lib/python3.9/site-packages/torch/nn/modules/module.py?line=1106'>1107</a>\u001b[0m \u001b[39m# this function, and just call forward.\u001b[39;00m\n\u001b[1;32m   <a href='file:///Users/salem/miniconda3/envs/gfn/lib/python3.9/site-packages/torch/nn/modules/module.py?line=1107'>1108</a>\u001b[0m \u001b[39mif\u001b[39;00m \u001b[39mnot\u001b[39;00m (\u001b[39mself\u001b[39m\u001b[39m.\u001b[39m_backward_hooks \u001b[39mor\u001b[39;00m \u001b[39mself\u001b[39m\u001b[39m.\u001b[39m_forward_hooks \u001b[39mor\u001b[39;00m \u001b[39mself\u001b[39m\u001b[39m.\u001b[39m_forward_pre_hooks \u001b[39mor\u001b[39;00m _global_backward_hooks\n\u001b[1;32m   <a href='file:///Users/salem/miniconda3/envs/gfn/lib/python3.9/site-packages/torch/nn/modules/module.py?line=1108'>1109</a>\u001b[0m         \u001b[39mor\u001b[39;00m _global_forward_hooks \u001b[39mor\u001b[39;00m _global_forward_pre_hooks):\n\u001b[0;32m-> <a href='file:///Users/salem/miniconda3/envs/gfn/lib/python3.9/site-packages/torch/nn/modules/module.py?line=1109'>1110</a>\u001b[0m     \u001b[39mreturn\u001b[39;00m forward_call(\u001b[39m*\u001b[39;49m\u001b[39minput\u001b[39;49m, \u001b[39m*\u001b[39;49m\u001b[39m*\u001b[39;49mkwargs)\n\u001b[1;32m   <a href='file:///Users/salem/miniconda3/envs/gfn/lib/python3.9/site-packages/torch/nn/modules/module.py?line=1110'>1111</a>\u001b[0m \u001b[39m# Do not call functions when jit is used\u001b[39;00m\n\u001b[1;32m   <a href='file:///Users/salem/miniconda3/envs/gfn/lib/python3.9/site-packages/torch/nn/modules/module.py?line=1111'>1112</a>\u001b[0m full_backward_hooks, non_full_backward_hooks \u001b[39m=\u001b[39m [], []\n",
      "\u001b[1;32m/Volumes/GoogleDrive/My Drive/workspace/tabular-gflownet/bitsequence.ipynb Cell 10'\u001b[0m in \u001b[0;36mPositionalEncoding.forward\u001b[0;34m(self, x)\u001b[0m\n\u001b[1;32m     <a href='vscode-notebook-cell:/Volumes/GoogleDrive/My%20Drive/workspace/tabular-gflownet/bitsequence.ipynb#ch0000009?line=21'>22</a>\u001b[0m \u001b[39mdef\u001b[39;00m \u001b[39mforward\u001b[39m(\u001b[39mself\u001b[39m, x):\n\u001b[0;32m---> <a href='vscode-notebook-cell:/Volumes/GoogleDrive/My%20Drive/workspace/tabular-gflownet/bitsequence.ipynb#ch0000009?line=22'>23</a>\u001b[0m     x \u001b[39m=\u001b[39m x \u001b[39m+\u001b[39;49m \u001b[39mself\u001b[39;49m\u001b[39m.\u001b[39;49mpe[:x\u001b[39m.\u001b[39;49msize(\u001b[39m0\u001b[39;49m), :]\n\u001b[1;32m     <a href='vscode-notebook-cell:/Volumes/GoogleDrive/My%20Drive/workspace/tabular-gflownet/bitsequence.ipynb#ch0000009?line=23'>24</a>\u001b[0m     \u001b[39mreturn\u001b[39;00m \u001b[39mself\u001b[39m\u001b[39m.\u001b[39mdropout(x)\n",
      "\u001b[0;31mRuntimeError\u001b[0m: The size of tensor a (120) must match the size of tensor b (61) at non-singleton dimension 0"
     ]
    }
   ],
   "source": [
    "optimizer = torch.optim.Adam(transformer.parameters(), lr=7e-4)\n",
    "losses = []\n",
    "for _ in range(3000):\n",
    "    optimizer.zero_grad()\n",
    "    length = n\n",
    "    x = torch.randint(2, (length, 16)).to(torch.long)\n",
    "    pred = transformer(x, None).squeeze()\n",
    "    target = (x.sum(0) / 100. - x[10:x.shape[0] // 2:].sum(0) / 100. + x[:10, :].float().mean(0))\n",
    "    loss = nn.MSELoss()(target, pred)\n",
    "    loss.backward()\n",
    "    optimizer.step()\n",
    "    losses.append(loss.item())\n"
   ]
  },
  {
   "cell_type": "code",
   "execution_count": 140,
   "id": "5c46ec16",
   "metadata": {},
   "outputs": [
    {
     "data": {
      "text/plain": [
       "torch.Size([120, 1])"
      ]
     },
     "execution_count": 140,
     "metadata": {},
     "output_type": "execute_result"
    }
   ],
   "source": [
    "transformer(x, None).shape"
   ]
  },
  {
   "cell_type": "code",
   "execution_count": 112,
   "id": "dc3f4756",
   "metadata": {},
   "outputs": [
    {
     "data": {
      "text/plain": [
       "[<matplotlib.lines.Line2D at 0x7fbcc2ddcbb0>]"
      ]
     },
     "execution_count": 112,
     "metadata": {},
     "output_type": "execute_result"
    },
    {
     "data": {
      "image/png": "[encoded data removed]",
      "text/plain": [
       "<Figure size 432x288 with 1 Axes>"
      ]
     },
     "metadata": {
      "needs_background": "light"
     },
     "output_type": "display_data"
    }
   ],
   "source": [
    "plt.plot(losses)"
   ]
  },
  {
   "cell_type": "code",
   "execution_count": 113,
   "id": "1e470aca-6f7f-4367-924e-3987a2cbb821",
   "metadata": {
    "pycharm": {
     "name": "#%%\n"
    }
   },
   "outputs": [
    {
     "data": {
      "text/plain": [
       "[<matplotlib.lines.Line2D at 0x7fbcc4883580>]"
      ]
     },
     "execution_count": 113,
     "metadata": {},
     "output_type": "execute_result"
    },
    {
     "data": {
      "image/png": "[encoded data removed]",
      "text/plain": [
       "<Figure size 432x288 with 1 Axes>"
      ]
     },
     "metadata": {
      "needs_background": "light"
     },
     "output_type": "display_data"
    }
   ],
   "source": [
    "N = 100\n",
    "plt.plot(np.convolve(losses[20:], np.ones(N) / N, mode='valid'))"
   ]
  },
  {
   "cell_type": "code",
   "execution_count": 122,
   "id": "98965940-99e8-4377-8194-30592063ddba",
   "metadata": {
    "pycharm": {
     "name": "#%%\n"
    }
   },
   "outputs": [
    {
     "name": "stdout",
     "output_type": "stream",
     "text": [
      "1.0846059322357178 1.0449999570846558\n"
     ]
    }
   ],
   "source": [
    "length = 120\n",
    "x = torch.randint(2, (1, length)).to(torch.long)\n",
    "pred = transformer(x, None)[-1]\n",
    "target = x.sum() / 100. - x[10:len(x) // 2].sum() / 100. + x[:10].float().mean()\n",
    "print(pred.item(), target.item())"
   ]
  },
  {
   "cell_type": "code",
   "execution_count": 94,
   "id": "55088804-065f-4348-906d-3429ad056b92",
   "metadata": {
    "pycharm": {
     "name": "#%%\n"
    }
   },
   "outputs": [
    {
     "data": {
      "text/plain": [
       "tensor(1.5000)"
      ]
     },
     "execution_count": 94,
     "metadata": {},
     "output_type": "execute_result"
    }
   ],
   "source": [
    "torch.mean(x.float()) + 1"
   ]
  },
  {
   "cell_type": "code",
   "execution_count": 95,
   "id": "2ef5c4be-9ec8-4d33-95de-4da4f4bb6275",
   "metadata": {
    "pycharm": {
     "name": "#%%\n"
    }
   },
   "outputs": [
    {
     "data": {
      "text/plain": [
       "tensor(1.1000)"
      ]
     },
     "execution_count": 95,
     "metadata": {},
     "output_type": "execute_result"
    }
   ],
   "source": [
    "x.sum() / 100. - x[10:len(x) // 2].sum() / 100. + x[:10].float().mean()"
   ]
  },
  {
   "cell_type": "code",
   "execution_count": null,
   "id": "cf0151c7",
   "metadata": {},
   "outputs": [],
   "source": [
    "torch.nn.Linear()"
   ]
  }
 ],
 "metadata": {
  "interpreter": {
   "hash": "e610853955a4976844028d25ae7d7015f56f6232ff1ee1652ddfbdbca4cad4c8"
  },
  "kernelspec": {
   "display_name": "Python 3.9.7 ('gfn')",
   "language": "python",
   "name": "python3"
  },
  "language_info": {
   "codemirror_mode": {
    "name": "ipython",
    "version": 3
   },
   "file_extension": ".py",
   "mimetype": "text/x-python",
   "name": "python",
   "nbconvert_exporter": "python",
   "pygments_lexer": "ipython3",
   "version": "3.9.7"
  }
 },
 "nbformat": 4,
 "nbformat_minor": 5
}
