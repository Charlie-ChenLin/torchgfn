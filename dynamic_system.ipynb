{
 "cells": [
  {
   "cell_type": "code",
   "execution_count": 45,
   "metadata": {},
   "outputs": [],
   "source": [
    "import numpy as np\n",
    "import matplotlib.pyplot as plt\n",
    "from scipy.special import logsumexp\n"
   ]
  },
  {
   "cell_type": "code",
   "execution_count": 51,
   "metadata": {},
   "outputs": [],
   "source": [
    "def sigmoid(x):\n",
    "    return 1. / (1. + np.exp(-x))\n",
    "\n",
    "\n",
    "def inverse_sigmoid(y):\n",
    "    return np.log(y / (1. - y))\n",
    "\n",
    "\n",
    "def plot_trajectory(params_trajectory, optimal=None, figtitle=None):\n",
    "\n",
    "    T = params_trajectory.shape[0]\n",
    "    # time points for which we want to evaluate solutions\n",
    "    t = np.arange(0, T)\n",
    "\n",
    "    # make a color map to visualize time\n",
    "    timecolors = np.array([(1, 0, 0, i) for i in t / t[-1]])\n",
    "\n",
    "    # make a large figure\n",
    "    fig, (ah1, ah2, ah3) = plt.subplots(1, 3)\n",
    "    fig.set_size_inches(10, 3)\n",
    "\n",
    "    # plot x1 as a function of time\n",
    "    ah1.scatter(t, params_trajectory[:, 0], color=timecolors)\n",
    "    ah1.set_xlabel('time')\n",
    "    ah1.set_ylabel('logZ', labelpad=-5)\n",
    "\n",
    "    # plot x2 as a function of time\n",
    "    ah2.scatter(t, params_trajectory[:, 1], color=timecolors)\n",
    "    ah2.set_xlabel('time')\n",
    "    ah2.set_ylabel('x', labelpad=-5)\n",
    "\n",
    "    # plot x1 and x2 in a phase portrait\n",
    "    ah3.scatter(params_trajectory[:, 0],\n",
    "                params_trajectory[:, 1], color=timecolors)\n",
    "    ah3.set_xlabel('logZ')\n",
    "    ah3.set_ylabel('x', labelpad=-5)\n",
    "    # include initial condition is a blue cross\n",
    "    ah3.plot(params_trajectory[0, 0], params_trajectory[0, 1], 'bx')\n",
    "\n",
    "    if optimal is not None:\n",
    "        ah3.plot(optimal[0], optimal[1], 'gx')\n",
    "\n",
    "    # adjust spacing between subplots\n",
    "    plt.subplots_adjust(wspace=0.5)\n",
    "\n",
    "    # add figure title\n",
    "    if figtitle is not None:\n",
    "        fig.suptitle(figtitle, size=16)\n"
   ]
  },
  {
   "cell_type": "markdown",
   "metadata": {},
   "source": [
    "### N = 2"
   ]
  },
  {
   "cell_type": "code",
   "execution_count": 100,
   "metadata": {},
   "outputs": [],
   "source": [
    "def one_step(params, lr1, lr2, log_rew_1, log_rew_2, prob_s0_s2=0.1):\n",
    "    rand = np.random.rand()\n",
    "    if rand < prob_s0_s2:\n",
    "        grad_1 = 2 * (params[0] + np.log(sigmoid(- params[1])) - log_rew_2)\n",
    "        grad = grad_1 * np.array([1, -sigmoid(params[1])])\n",
    "    else:\n",
    "        grad_1 = 2 * (params[0] + np.log(sigmoid(params[1])) - log_rew_1)\n",
    "        grad = grad_1 * np.array([1, 1 - sigmoid(params[1])])\n",
    "    new_params = params - np.array([lr1, lr2]) * grad\n",
    "    return new_params\n"
   ]
  },
  {
   "cell_type": "code",
   "execution_count": 127,
   "metadata": {},
   "outputs": [],
   "source": [
    "lr1, lr2 = 0.01, 0.01\n",
    "log_rew_1 = np.log(2)\n",
    "log_rew_2 = 0.\n"
   ]
  },
  {
   "cell_type": "code",
   "execution_count": 156,
   "metadata": {},
   "outputs": [],
   "source": [
    "prob_s0_s2 = 0.\n",
    "\n",
    "horizon = 200\n",
    "params = np.array([4., 0.])\n",
    "\n",
    "\n",
    "params_trajectory = np.zeros((horizon, 2))\n",
    "params_trajectory[0] = params\n",
    "\n",
    "for t in range(horizon - 1):\n",
    "    params = one_step(params, lr1, lr2, log_rew_1, log_rew_2, prob_s0_s2)\n",
    "    params_trajectory[t+1] = params\n"
   ]
  },
  {
   "cell_type": "code",
   "execution_count": 157,
   "metadata": {},
   "outputs": [
    {
     "data": {
      "image/png": "[encoded data removed]",
      "text/plain": [
       "<Figure size 720x216 with 3 Axes>"
      ]
     },
     "metadata": {
      "needs_background": "light"
     },
     "output_type": "display_data"
    }
   ],
   "source": [
    "opt_log_Z = logsumexp([log_rew_1, log_rew_2])\n",
    "optimal = np.array([opt_log_Z, inverse_sigmoid(\n",
    "    np.exp(log_rew_1) / np.exp(opt_log_Z))])\n",
    "plot_trajectory(params_trajectory, optimal=optimal)\n"
   ]
  },
  {
   "cell_type": "code",
   "execution_count": 159,
   "metadata": {},
   "outputs": [
    {
     "name": "stdout",
     "output_type": "stream",
     "text": [
      "[ 2.13729608 -1.16768706]\n",
      "[1.09861229 0.69314718]\n",
      "[5.60573892e-05 5.25672612e-05 4.92943645e-05 4.62251842e-05\n",
      " 4.33470456e-05 4.06480621e-05 3.81170863e-05 3.57436638e-05\n",
      " 3.35179906e-05 3.14308724e-05]\n"
     ]
    }
   ],
   "source": [
    "print(params_trajectory[-1])\n",
    "print(optimal)\n",
    "print((params_trajectory[-10:, 0] - (log_rew_1 -\n",
    "      np.log(sigmoid(params_trajectory[-10:, 1]))))**2)\n"
   ]
  },
  {
   "cell_type": "markdown",
   "metadata": {},
   "source": [
    "### N > 2"
   ]
  },
  {
   "cell_type": "code",
   "execution_count": 289,
   "metadata": {},
   "outputs": [],
   "source": [
    "N = 10\n",
    "\n",
    "\n",
    "def reward(i):\n",
    "    # i = 1.. N\n",
    "    return i\n",
    "\n",
    "\n",
    "def init_params():\n",
    "    # the first parameter is y=logZ, the others are x_i s.t P(s_i | s_0) = softmax(x_i) for i >\n",
    "    params = np.zeros(N + 1)\n",
    "    params[1] = np.log(reward(1))  # convention x_1 = log R_1\n",
    "    return params\n"
   ]
  },
  {
   "cell_type": "code",
   "execution_count": 295,
   "metadata": {},
   "outputs": [],
   "source": [
    "def one_step_N(params, lr1, lr2, i):\n",
    "    # i = 1..N\n",
    "    log_X = logsumexp(params[1:])\n",
    "    grad_1 = 2 * (params[0] + params[i] - log_X - np.log(reward(i)))\n",
    "    grad_mult = np.ones(N + 1)\n",
    "    grad_mult[1:] = np.exp(params[1:] - log_X)\n",
    "    grad_mult[i] = 1 - np.exp(params[i] - log_X)\n",
    "    grad = grad_mult * grad_1\n",
    "    lrs = lr2 * np.ones(N + 1)\n",
    "    lrs[0] = lr1\n",
    "    lrs[1] = 0\n",
    "    new_params = params - lrs * grad\n",
    "    return new_params\n"
   ]
  },
  {
   "cell_type": "code",
   "execution_count": 296,
   "metadata": {},
   "outputs": [],
   "source": [
    "lr1, lr2 = 0.2, 0.02\n",
    "horizon = 5000\n",
    "params = init_params()\n",
    "\n",
    "\n",
    "params_trajectory = np.zeros((horizon, N + 1))\n",
    "params_trajectory[0] = params\n",
    "\n",
    "for t in range(horizon - 1):\n",
    "    while True:\n",
    "        i = 1 + np.random.randint(N)\n",
    "        if i > N-3:\n",
    "            break\n",
    "    params = one_step_N(params, lr1, lr2, i)\n",
    "    params_trajectory[t+1] = params\n"
   ]
  },
  {
   "cell_type": "code",
   "execution_count": 297,
   "metadata": {},
   "outputs": [],
   "source": [
    "opt_log_Z = np.log(np.sum([reward(i) for i in range(1, N + 1)]))\n",
    "optimal_params = np.zeros(N + 1)\n",
    "optimal_params[1:] = np.log([reward(i) for i in range(1, N + 1)])\n",
    "optimal_params[0] = opt_log_Z\n"
   ]
  },
  {
   "cell_type": "code",
   "execution_count": 298,
   "metadata": {},
   "outputs": [
    {
     "name": "stdout",
     "output_type": "stream",
     "text": [
      "[4.41142706 0.         0.04357509 0.04357509 0.04357509 0.04357509\n",
      " 0.04357509 0.04357509 0.04847279 0.16625583 0.27161634]\n",
      "[4.00733319 0.         0.69314718 1.09861229 1.38629436 1.60943791\n",
      " 1.79175947 1.94591015 2.07944154 2.19722458 2.30258509]\n"
     ]
    }
   ],
   "source": [
    "print(params_trajectory[-1])\n",
    "print(optimal_params)\n"
   ]
  },
  {
   "cell_type": "code",
   "execution_count": 299,
   "metadata": {},
   "outputs": [
    {
     "data": {
      "image/png": "[encoded data removed]",
      "text/plain": [
       "<Figure size 432x288 with 1 Axes>"
      ]
     },
     "metadata": {
      "needs_background": "light"
     },
     "output_type": "display_data"
    }
   ],
   "source": [
    "def get_dist(params):\n",
    "    return np.exp(params[1:]) / np.sum(np.exp(params[1:]))\n",
    "\n",
    "\n",
    "true_dist = get_dist(optimal_params)\n",
    "\n",
    "distances = [np.sum((true_dist - get_dist(params_trajectory[t, :])) ** 2)\n",
    "             for t in range(horizon)]\n",
    "\n",
    "plt.plot(range(horizon), distances)\n",
    "plt.xlabel('iteration')\n",
    "plt.ylabel(r'$|p - \\hat{p}|^2$')\n",
    "plt.show()\n"
   ]
  },
  {
   "cell_type": "code",
   "execution_count": 244,
   "metadata": {},
   "outputs": [
    {
     "data": {
      "text/plain": [
       "array([0.        , 0.17999239, 0.25287204, ..., 0.32881735, 0.32881735,\n",
       "       0.32881735])"
      ]
     },
     "execution_count": 244,
     "metadata": {},
     "output_type": "execute_result"
    }
   ],
   "source": [
    "params_trajectory[:, -1]\n"
   ]
  },
  {
   "cell_type": "code",
   "execution_count": 225,
   "metadata": {},
   "outputs": [
    {
     "data": {
      "text/plain": [
       "4998"
      ]
     },
     "execution_count": 225,
     "metadata": {},
     "output_type": "execute_result"
    }
   ],
   "source": [
    "t\n"
   ]
  },
  {
   "cell_type": "code",
   "execution_count": 226,
   "metadata": {},
   "outputs": [
    {
     "data": {
      "text/plain": [
       "array([2.85344222e-18, 5.14721514e-20, 2.66736479e-19, 4.04220161e-20,\n",
       "       3.93134892e-21, 2.71217075e-20, 5.25008334e-20, 1.53577897e-18,\n",
       "       3.87443183e-19, 1.68359527e-22])"
      ]
     },
     "execution_count": 226,
     "metadata": {},
     "output_type": "execute_result"
    }
   ],
   "source": [
    "(true_dist - get_dist(params_trajectory[t, :])) ** 2\n"
   ]
  }
 ],
 "metadata": {
  "kernelspec": {
   "display_name": "Python 3.10.0 ('gfn')",
   "language": "python",
   "name": "python3"
  },
  "language_info": {
   "codemirror_mode": {
    "name": "ipython",
    "version": 3
   },
   "file_extension": ".py",
   "mimetype": "text/x-python",
   "name": "python",
   "nbconvert_exporter": "python",
   "pygments_lexer": "ipython3",
   "version": "3.10.0"
  },
  "orig_nbformat": 4,
  "vscode": {
   "interpreter": {
    "hash": "434788b4d2947960d750fc4efc31c36e5cad0a4a7497510026bff955188002ed"
   }
  }
 },
 "nbformat": 4,
 "nbformat_minor": 2
}
