{
 "cells": [
  {
   "cell_type": "code",
   "execution_count": 1,
   "id": "71cf8174-c82b-4f0d-9719-4a96bb343210",
   "metadata": {
    "pycharm": {
     "name": "#%%\n"
    }
   },
   "outputs": [],
   "source": [
    "%load_ext autoreload\n",
    "%autoreload 2"
   ]
  },
  {
   "cell_type": "code",
   "execution_count": 5,
   "id": "c9031775-d232-4584-a89f-c584f20f1d25",
   "metadata": {
    "pycharm": {
     "name": "#%%\n"
    }
   },
   "outputs": [],
   "source": [
    "import torch\n",
    "import numpy as np\n",
    "import matplotlib.pyplot as plt\n",
    "from hypergrid_env import HyperGrid"
   ]
  },
  {
   "cell_type": "markdown",
   "id": "8057c2dd-7613-4a4f-ba27-222dea6a5e5e",
   "metadata": {
    "pycharm": {
     "name": "#%% md\n"
    }
   },
   "source": [
    "### Sanity check"
   ]
  },
  {
   "cell_type": "code",
   "execution_count": 161,
   "id": "ec2f5284-cab6-4ad0-8019-0b5a2daa8483",
   "metadata": {
    "pycharm": {
     "name": "#%%\n"
    }
   },
   "outputs": [],
   "source": [
    "ndim, H = (2, 8)\n",
    "R0, R1, R2 = 1e-2, 0.5, 2\n",
    "env = HyperGrid(ndim, H, R0, R1, R2)"
   ]
  },
  {
   "cell_type": "code",
   "execution_count": 162,
   "id": "fb9502d5-3018-49f1-87cf-41faf1d2062d",
   "metadata": {
    "pycharm": {
     "name": "#%%\n"
    }
   },
   "outputs": [
    {
     "data": {
      "text/plain": [
       "81"
      ]
     },
     "execution_count": 162,
     "metadata": {},
     "output_type": "execute_result"
    }
   ],
   "source": [
    "env.n_states"
   ]
  },
  {
   "cell_type": "markdown",
   "id": "87a06b38-9044-4172-be5a-cbf3c84ab267",
   "metadata": {
    "pycharm": {
     "name": "#%% md\n"
    }
   },
   "source": [
    "### DAG class"
   ]
  },
  {
   "cell_type": "code",
   "execution_count": 163,
   "id": "ecec544e-5ae4-4505-b7ae-caf790933fa0",
   "metadata": {
    "pycharm": {
     "name": "#%%\n"
    }
   },
   "outputs": [],
   "source": [
    "class DAG:\n",
    "    def __init__(self):\n",
    "        self.n_states = 0\n",
    "        self.n_edges = 0\n",
    "        self.states = []\n",
    "        self.state_dict = {}\n",
    "        self.parents = []\n",
    "        self.children = []\n",
    "        self.edges = []\n",
    "        \n",
    "    def add_states(self, state_list):\n",
    "        # state_list is a list of (hashable?) python objects\n",
    "        for state in state_list:\n",
    "            self.states.append(state)\n",
    "            self.state_dict[state] = self.n_states\n",
    "            self.n_states += 1\n",
    "            self.parents.append([])\n",
    "            self.children.append([])\n",
    "        \n",
    "    def add_final_state(self):\n",
    "        self.states.append('sf')\n",
    "        self.state_dict['sf'] = self.n_states\n",
    "        self.n_states += 1\n",
    "        self.parents.append([])\n",
    "        \n",
    "    def add_edges(self, edge_list):\n",
    "        # edge_list is a list of (i, j) tuples, i and j representing the state indices\n",
    "        for i, j in edge_list:\n",
    "            self.parents[j].append(i)\n",
    "            self.children[i].append(j)\n",
    "        self.edges.extend(edge_list)\n",
    "            \n",
    "    def get_parents(self, state=None, state_idx=None):\n",
    "        if state_idx is None:\n",
    "            state_idx = G.state_dict[state]\n",
    "        parent_indices = self.parents[state_idx]\n",
    "        parents = [self.states[index] for index in parent_indices]\n",
    "        return parent_indices, parents\n",
    "    \n",
    "    def get_children(self, state=None, state_idx=None):\n",
    "        if state_idx is None:\n",
    "            state_idx = G.state_dict[state]\n",
    "        children_indices = self.children[state_idx]\n",
    "        children = [self.states[index] for index in children_indices]\n",
    "        return children_indices, children"
   ]
  },
  {
   "cell_type": "code",
   "execution_count": 164,
   "id": "498f3cb0-ae98-447a-9db7-eae554b89bb6",
   "metadata": {
    "pycharm": {
     "name": "#%%\n"
    }
   },
   "outputs": [],
   "source": [
    "G = DAG()\n",
    "state_list = [tuple(arr) for arr in list(env.grid.reshape(-1, ndim).numpy())]\n",
    "G.add_states(state_list)\n",
    "G.add_final_state()"
   ]
  },
  {
   "cell_type": "code",
   "execution_count": 165,
   "id": "a10ebe2a-8f1f-42c6-a8ae-a97a94bb8448",
   "metadata": {
    "pycharm": {
     "name": "#%%\n"
    }
   },
   "outputs": [
    {
     "data": {
      "text/plain": [
       "82"
      ]
     },
     "execution_count": 165,
     "metadata": {},
     "output_type": "execute_result"
    }
   ],
   "source": [
    "G.n_states"
   ]
  },
  {
   "cell_type": "code",
   "execution_count": 166,
   "id": "8f67aaf2-e9dc-4919-8299-a1408c8fd162",
   "metadata": {
    "pycharm": {
     "name": "#%%\n"
    }
   },
   "outputs": [],
   "source": [
    "# edge_list = [(i, j) for i in range(G.n_states - 1) for j in range(G.n_states - 1)\n",
    "#              if np.sum(np.array(G.states[j]) - np.array(G.states[i])) == 1\n",
    "#              and np.sum(np.abs(np.array(G.states[j]) - np.array(G.states[i]))) == 1 ]\n",
    "# edge_list += [(i, G.n_states - 1) for i in range(G.n_states - 1)]\n",
    "for state in G.states:\n",
    "    idx_state = G.state_dict[state]\n",
    "    if idx_state == G.n_states - 1:\n",
    "        continue\n",
    "    edge_list = []\n",
    "    for dim in range(ndim):\n",
    "        if state[dim] < H:\n",
    "            child_state = tuple((j if i != dim else j + 1 for i, j in enumerate(state)))\n",
    "            idx_child = G.state_dict[child_state]\n",
    "            edge_list.append((idx_state, idx_child))\n",
    "    edge_list.append((idx_state, G.n_states - 1))\n",
    "    G.add_edges(edge_list)"
   ]
  },
  {
   "cell_type": "code",
   "execution_count": 167,
   "id": "049c8eb2-9a75-4111-a675-10cb5902221b",
   "metadata": {
    "pycharm": {
     "name": "#%%\n"
    }
   },
   "outputs": [
    {
     "data": {
      "text/plain": [
       "[(0, 1),\n",
       " (0, 9),\n",
       " (0, 81),\n",
       " (1, 2),\n",
       " (1, 10),\n",
       " (1, 81),\n",
       " (2, 3),\n",
       " (2, 11),\n",
       " (2, 81),\n",
       " (3, 4)]"
      ]
     },
     "execution_count": 167,
     "metadata": {},
     "output_type": "execute_result"
    }
   ],
   "source": [
    "G.edges[:10]"
   ]
  },
  {
   "cell_type": "markdown",
   "id": "4cce87ee-0b0f-4ae8-a7b6-1b5604ebd977",
   "metadata": {
    "pycharm": {
     "name": "#%% md\n"
    }
   },
   "source": [
    "### Algorithm 3"
   ]
  },
  {
   "cell_type": "code",
   "execution_count": 168,
   "id": "bec49282-999d-4c05-a338-428b5a424413",
   "metadata": {
    "pycharm": {
     "name": "#%%\n"
    }
   },
   "outputs": [],
   "source": [
    "# Define P_B\n",
    "def uniform_P_B(s_idx, s_prime_idx):\n",
    "    parents_idx, _ = G.get_parents(state_idx=s_prime_idx)\n",
    "    n_parents = len(parents_idx)\n",
    "    return 1. / n_parents"
   ]
  },
  {
   "cell_type": "code",
   "execution_count": 169,
   "id": "20c4cb4b-2e14-413b-9519-75cbdd40eee8",
   "metadata": {
    "pycharm": {
     "name": "#%%\n"
    }
   },
   "outputs": [],
   "source": [
    "Y = {G.n_states - 1}  # dict of nodes we will not revisit. This is the idx of s_f\n",
    "U = []  # queue\n",
    "F = {edge_idx: None for edge_idx in G.edges}\n",
    "for state_idx in range(G.n_states - 1):\n",
    "    F[(state_idx, G.n_states - 1)] = env.reward(np.array(G.states[state_idx]))\n",
    "    children_idx, _ = G.get_children(state_idx=state_idx)\n",
    "    if len(children_idx) == 1:\n",
    "        assert children_idx[0] == G.n_states - 1  # The index of s_f\n",
    "        U.append((state_idx, env.reward(np.array(G.states[state_idx]))))\n",
    "V = {state_idx: env.reward(np.array(G.states[state_idx]))\n",
    "     for state_idx in range(G.n_states - 1)}"
   ]
  },
  {
   "cell_type": "code",
   "execution_count": 170,
   "id": "c7d9baf0-a7e2-408e-92ec-bb3e0787bd4d",
   "metadata": {
    "pycharm": {
     "name": "#%%\n"
    }
   },
   "outputs": [],
   "source": [
    "while len(U) > 0:\n",
    "    s_prime, t = U.pop(0)\n",
    "    Y.add(s_prime)\n",
    "    parents_idx, _ = G.get_parents(state_idx=s_prime)\n",
    "    for s in parents_idx:\n",
    "        F[(s, s_prime)] = t * uniform_P_B(s, s_prime)\n",
    "        if s not in V:\n",
    "            V[s] = F[(s, s_prime)]\n",
    "        else:\n",
    "            V[s] += F[(s, s_prime)]\n",
    "        s_children_idx, _ = G.get_children(state_idx=s)\n",
    "        if all([child_idx in Y for child_idx in s_children_idx]):\n",
    "            U.append((s, V[s]))"
   ]
  },
  {
   "cell_type": "code",
   "execution_count": 171,
   "id": "57a5f43e-406e-4400-aafb-a515cbeb415e",
   "metadata": {
    "pycharm": {
     "name": "#%%\n"
    }
   },
   "outputs": [
    {
     "name": "stdout",
     "output_type": "stream",
     "text": [
      "{(0, 1): 8.149999999999999, (0, 9): 8.15, (0, 81): 0.51}\n",
      "16.81\n",
      "16.81\n",
      "16.809999999999988\n"
     ]
    }
   ],
   "source": [
    "initial_edge_flows = {key: val for key, val in F.items() if key[0] == 0}\n",
    "print(initial_edge_flows)\n",
    "total_flow = sum(initial_edge_flows.values())\n",
    "print(total_flow)\n",
    "print(V[0])\n",
    "manual_total_reward = 0\n",
    "for state_idx in range(G.n_states - 1):\n",
    "    manual_total_reward += env.reward(np.array(G.states[state_idx]))\n",
    "print(manual_total_reward)"
   ]
  },
  {
   "cell_type": "code",
   "execution_count": null,
   "id": "8be57730-e52d-4dd6-9be0-29b72168b00c",
   "metadata": {
    "pycharm": {
     "name": "#%%\n"
    }
   },
   "outputs": [],
   "source": []
  }
 ],
 "metadata": {
  "kernelspec": {
   "display_name": "Python 3 (ipykernel)",
   "language": "python",
   "name": "python3"
  },
  "language_info": {
   "codemirror_mode": {
    "name": "ipython",
    "version": 3
   },
   "file_extension": ".py",
   "mimetype": "text/x-python",
   "name": "python",
   "nbconvert_exporter": "python",
   "pygments_lexer": "ipython3",
   "version": "3.9.7"
  }
 },
 "nbformat": 4,
 "nbformat_minor": 5
}
